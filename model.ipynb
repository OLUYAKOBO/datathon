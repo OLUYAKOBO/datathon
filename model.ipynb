{
 "cells": [
  {
   "cell_type": "code",
   "execution_count": 55,
   "metadata": {},
   "outputs": [],
   "source": [
    "import pandas as pd\n",
    "import numpy as np\n",
    "import matplotlib.pyplot as plt\n",
    "from sklearn.ensemble import RandomForestClassifier\n",
    "from sklearn.tree import DecisionTreeClassifier\n",
    "from sklearn.metrics import confusion_matrix,precision_score,accuracy_score,recall_score, roc_auc_score,classification_report\n",
    "from sklearn.model_selection import train_test_split,cross_val_score\n",
    "from sklearn.preprocessing import StandardScaler,OneHotEncoder\n",
    "import pickle"
   ]
  },
  {
   "cell_type": "code",
   "execution_count": 56,
   "metadata": {},
   "outputs": [],
   "source": [
    "#import data\n",
    "#import the 5 files\n",
    "#parent_data, school_data, students_data, teachers_data, extracurricular_data\n",
    "parent_data = pd.read_csv('data/parental_data.csv')\n",
    "school_data = pd.read_csv('data/school_data.csv')\n",
    "students_data = pd.read_csv('data/students_data.csv')\n",
    "teachers_data = pd.read_csv('data/teachers_data.csv')\n",
    "extracurr_data = pd.read_csv('data/extracurricular_activities_data.csv')"
   ]
  },
  {
   "cell_type": "code",
   "execution_count": 57,
   "metadata": {},
   "outputs": [
    {
     "data": {
      "text/html": [
       "<div>\n",
       "<style scoped>\n",
       "    .dataframe tbody tr th:only-of-type {\n",
       "        vertical-align: middle;\n",
       "    }\n",
       "\n",
       "    .dataframe tbody tr th {\n",
       "        vertical-align: top;\n",
       "    }\n",
       "\n",
       "    .dataframe thead th {\n",
       "        text-align: right;\n",
       "    }\n",
       "</style>\n",
       "<table border=\"1\" class=\"dataframe\">\n",
       "  <thead>\n",
       "    <tr style=\"text-align: right;\">\n",
       "      <th></th>\n",
       "      <th>parental_id</th>\n",
       "      <th>student_id</th>\n",
       "      <th>marital_status</th>\n",
       "      <th>educational_background</th>\n",
       "      <th>occupation</th>\n",
       "      <th>income_level</th>\n",
       "      <th>number_of_children</th>\n",
       "    </tr>\n",
       "  </thead>\n",
       "  <tbody>\n",
       "    <tr>\n",
       "      <th>0</th>\n",
       "      <td>1</td>\n",
       "      <td>1</td>\n",
       "      <td>Divorced</td>\n",
       "      <td>Primary</td>\n",
       "      <td>Private Sector</td>\n",
       "      <td>Middle</td>\n",
       "      <td>3</td>\n",
       "    </tr>\n",
       "    <tr>\n",
       "      <th>1</th>\n",
       "      <td>2</td>\n",
       "      <td>2</td>\n",
       "      <td>Divorced</td>\n",
       "      <td>NaN</td>\n",
       "      <td>Private Sector</td>\n",
       "      <td>Middle</td>\n",
       "      <td>6</td>\n",
       "    </tr>\n",
       "  </tbody>\n",
       "</table>\n",
       "</div>"
      ],
      "text/plain": [
       "   parental_id  student_id marital_status educational_background  \\\n",
       "0            1           1       Divorced                Primary   \n",
       "1            2           2       Divorced                    NaN   \n",
       "\n",
       "       occupation income_level  number_of_children  \n",
       "0  Private Sector       Middle                   3  \n",
       "1  Private Sector       Middle                   6  "
      ]
     },
     "execution_count": 57,
     "metadata": {},
     "output_type": "execute_result"
    }
   ],
   "source": [
    "parent_data.head(2)"
   ]
  },
  {
   "cell_type": "code",
   "execution_count": 58,
   "metadata": {},
   "outputs": [
    {
     "data": {
      "text/plain": [
       "parental_id                 0\n",
       "student_id                  0\n",
       "marital_status              0\n",
       "educational_background    130\n",
       "occupation                  0\n",
       "income_level                0\n",
       "number_of_children          0\n",
       "dtype: int64"
      ]
     },
     "execution_count": 58,
     "metadata": {},
     "output_type": "execute_result"
    }
   ],
   "source": [
    "parent_data.isna().sum()"
   ]
  },
  {
   "cell_type": "code",
   "execution_count": 59,
   "metadata": {},
   "outputs": [],
   "source": [
    "#parent_data = parent_data.set_index(\"student_id\")\n",
    "#parent_data = parent_data.sort_index()"
   ]
  },
  {
   "cell_type": "code",
   "execution_count": 60,
   "metadata": {},
   "outputs": [
    {
     "data": {
      "text/html": [
       "<div>\n",
       "<style scoped>\n",
       "    .dataframe tbody tr th:only-of-type {\n",
       "        vertical-align: middle;\n",
       "    }\n",
       "\n",
       "    .dataframe tbody tr th {\n",
       "        vertical-align: top;\n",
       "    }\n",
       "\n",
       "    .dataframe thead th {\n",
       "        text-align: right;\n",
       "    }\n",
       "</style>\n",
       "<table border=\"1\" class=\"dataframe\">\n",
       "  <thead>\n",
       "    <tr style=\"text-align: right;\">\n",
       "      <th></th>\n",
       "      <th>parental_id</th>\n",
       "      <th>student_id</th>\n",
       "      <th>marital_status</th>\n",
       "      <th>educational_background</th>\n",
       "      <th>occupation</th>\n",
       "      <th>income_level</th>\n",
       "      <th>number_of_children</th>\n",
       "    </tr>\n",
       "  </thead>\n",
       "  <tbody>\n",
       "    <tr>\n",
       "      <th>0</th>\n",
       "      <td>1</td>\n",
       "      <td>1</td>\n",
       "      <td>Divorced</td>\n",
       "      <td>Primary</td>\n",
       "      <td>Private Sector</td>\n",
       "      <td>Middle</td>\n",
       "      <td>3</td>\n",
       "    </tr>\n",
       "    <tr>\n",
       "      <th>1</th>\n",
       "      <td>2</td>\n",
       "      <td>2</td>\n",
       "      <td>Divorced</td>\n",
       "      <td>NaN</td>\n",
       "      <td>Private Sector</td>\n",
       "      <td>Middle</td>\n",
       "      <td>6</td>\n",
       "    </tr>\n",
       "    <tr>\n",
       "      <th>2</th>\n",
       "      <td>3</td>\n",
       "      <td>3</td>\n",
       "      <td>Widowed</td>\n",
       "      <td>Tertiary</td>\n",
       "      <td>Unemployed</td>\n",
       "      <td>Low</td>\n",
       "      <td>3</td>\n",
       "    </tr>\n",
       "    <tr>\n",
       "      <th>3</th>\n",
       "      <td>4</td>\n",
       "      <td>4</td>\n",
       "      <td>Single</td>\n",
       "      <td>NaN</td>\n",
       "      <td>Public Sector</td>\n",
       "      <td>High</td>\n",
       "      <td>6</td>\n",
       "    </tr>\n",
       "    <tr>\n",
       "      <th>4</th>\n",
       "      <td>5</td>\n",
       "      <td>5</td>\n",
       "      <td>Divorced</td>\n",
       "      <td>Tertiary</td>\n",
       "      <td>Public Sector</td>\n",
       "      <td>Middle</td>\n",
       "      <td>7</td>\n",
       "    </tr>\n",
       "  </tbody>\n",
       "</table>\n",
       "</div>"
      ],
      "text/plain": [
       "   parental_id  student_id marital_status educational_background  \\\n",
       "0            1           1       Divorced                Primary   \n",
       "1            2           2       Divorced                    NaN   \n",
       "2            3           3        Widowed               Tertiary   \n",
       "3            4           4         Single                    NaN   \n",
       "4            5           5       Divorced               Tertiary   \n",
       "\n",
       "       occupation income_level  number_of_children  \n",
       "0  Private Sector       Middle                   3  \n",
       "1  Private Sector       Middle                   6  \n",
       "2      Unemployed          Low                   3  \n",
       "3   Public Sector         High                   6  \n",
       "4   Public Sector       Middle                   7  "
      ]
     },
     "execution_count": 60,
     "metadata": {},
     "output_type": "execute_result"
    }
   ],
   "source": [
    "parent_data.head()"
   ]
  },
  {
   "cell_type": "code",
   "execution_count": 61,
   "metadata": {},
   "outputs": [
    {
     "data": {
      "text/html": [
       "<div>\n",
       "<style scoped>\n",
       "    .dataframe tbody tr th:only-of-type {\n",
       "        vertical-align: middle;\n",
       "    }\n",
       "\n",
       "    .dataframe tbody tr th {\n",
       "        vertical-align: top;\n",
       "    }\n",
       "\n",
       "    .dataframe thead th {\n",
       "        text-align: right;\n",
       "    }\n",
       "</style>\n",
       "<table border=\"1\" class=\"dataframe\">\n",
       "  <thead>\n",
       "    <tr style=\"text-align: right;\">\n",
       "      <th></th>\n",
       "      <th>school_id</th>\n",
       "      <th>student_id</th>\n",
       "      <th>facilities_standard</th>\n",
       "      <th>student_percentage_pass</th>\n",
       "    </tr>\n",
       "  </thead>\n",
       "  <tbody>\n",
       "    <tr>\n",
       "      <th>0</th>\n",
       "      <td>1</td>\n",
       "      <td>1</td>\n",
       "      <td>Advanced</td>\n",
       "      <td>77.7</td>\n",
       "    </tr>\n",
       "    <tr>\n",
       "      <th>1</th>\n",
       "      <td>2</td>\n",
       "      <td>2</td>\n",
       "      <td>Basic</td>\n",
       "      <td>70.6</td>\n",
       "    </tr>\n",
       "  </tbody>\n",
       "</table>\n",
       "</div>"
      ],
      "text/plain": [
       "   school_id  student_id facilities_standard  student_percentage_pass\n",
       "0          1           1            Advanced                     77.7\n",
       "1          2           2               Basic                     70.6"
      ]
     },
     "execution_count": 61,
     "metadata": {},
     "output_type": "execute_result"
    }
   ],
   "source": [
    "school_data.head(2)"
   ]
  },
  {
   "cell_type": "code",
   "execution_count": 62,
   "metadata": {},
   "outputs": [
    {
     "data": {
      "text/html": [
       "<div>\n",
       "<style scoped>\n",
       "    .dataframe tbody tr th:only-of-type {\n",
       "        vertical-align: middle;\n",
       "    }\n",
       "\n",
       "    .dataframe tbody tr th {\n",
       "        vertical-align: top;\n",
       "    }\n",
       "\n",
       "    .dataframe thead th {\n",
       "        text-align: right;\n",
       "    }\n",
       "</style>\n",
       "<table border=\"1\" class=\"dataframe\">\n",
       "  <thead>\n",
       "    <tr style=\"text-align: right;\">\n",
       "      <th></th>\n",
       "      <th>teacher_id</th>\n",
       "      <th>student_id</th>\n",
       "      <th>academic_level</th>\n",
       "      <th>job_satisfaction</th>\n",
       "      <th>salary_satisfaction</th>\n",
       "      <th>students_performance_impact</th>\n",
       "    </tr>\n",
       "  </thead>\n",
       "  <tbody>\n",
       "    <tr>\n",
       "      <th>0</th>\n",
       "      <td>1</td>\n",
       "      <td>1</td>\n",
       "      <td>Doctorate</td>\n",
       "      <td>Low</td>\n",
       "      <td>High</td>\n",
       "      <td>84.0</td>\n",
       "    </tr>\n",
       "    <tr>\n",
       "      <th>1</th>\n",
       "      <td>2</td>\n",
       "      <td>2</td>\n",
       "      <td>Doctorate</td>\n",
       "      <td>High</td>\n",
       "      <td>Moderate</td>\n",
       "      <td>52.2</td>\n",
       "    </tr>\n",
       "  </tbody>\n",
       "</table>\n",
       "</div>"
      ],
      "text/plain": [
       "   teacher_id  student_id academic_level job_satisfaction salary_satisfaction  \\\n",
       "0           1           1      Doctorate              Low                High   \n",
       "1           2           2      Doctorate             High            Moderate   \n",
       "\n",
       "   students_performance_impact  \n",
       "0                         84.0  \n",
       "1                         52.2  "
      ]
     },
     "execution_count": 62,
     "metadata": {},
     "output_type": "execute_result"
    }
   ],
   "source": [
    "teachers_data.head(2)"
   ]
  },
  {
   "cell_type": "code",
   "execution_count": 63,
   "metadata": {},
   "outputs": [
    {
     "data": {
      "text/html": [
       "<div>\n",
       "<style scoped>\n",
       "    .dataframe tbody tr th:only-of-type {\n",
       "        vertical-align: middle;\n",
       "    }\n",
       "\n",
       "    .dataframe tbody tr th {\n",
       "        vertical-align: top;\n",
       "    }\n",
       "\n",
       "    .dataframe thead th {\n",
       "        text-align: right;\n",
       "    }\n",
       "</style>\n",
       "<table border=\"1\" class=\"dataframe\">\n",
       "  <thead>\n",
       "    <tr style=\"text-align: right;\">\n",
       "      <th></th>\n",
       "      <th>student_id</th>\n",
       "      <th>name</th>\n",
       "      <th>surname</th>\n",
       "      <th>gender</th>\n",
       "      <th>location</th>\n",
       "      <th>study_hours</th>\n",
       "      <th>parental_involvement_level</th>\n",
       "      <th>academic_performance</th>\n",
       "    </tr>\n",
       "  </thead>\n",
       "  <tbody>\n",
       "    <tr>\n",
       "      <th>0</th>\n",
       "      <td>1</td>\n",
       "      <td>Adunni</td>\n",
       "      <td>Ogunleye</td>\n",
       "      <td>Female</td>\n",
       "      <td>Ikosi</td>\n",
       "      <td>19.9</td>\n",
       "      <td>High</td>\n",
       "      <td>67.4</td>\n",
       "    </tr>\n",
       "    <tr>\n",
       "      <th>1</th>\n",
       "      <td>2</td>\n",
       "      <td>Nwankwo</td>\n",
       "      <td>Nwankwo</td>\n",
       "      <td>Female</td>\n",
       "      <td>Mile 12</td>\n",
       "      <td>9.1</td>\n",
       "      <td>High</td>\n",
       "      <td>50.0</td>\n",
       "    </tr>\n",
       "  </tbody>\n",
       "</table>\n",
       "</div>"
      ],
      "text/plain": [
       "   student_id     name   surname  gender location  study_hours  \\\n",
       "0           1   Adunni  Ogunleye  Female    Ikosi         19.9   \n",
       "1           2  Nwankwo   Nwankwo  Female  Mile 12          9.1   \n",
       "\n",
       "  parental_involvement_level  academic_performance  \n",
       "0                       High                  67.4  \n",
       "1                       High                  50.0  "
      ]
     },
     "execution_count": 63,
     "metadata": {},
     "output_type": "execute_result"
    }
   ],
   "source": [
    "students_data.head(2)"
   ]
  },
  {
   "cell_type": "code",
   "execution_count": 64,
   "metadata": {},
   "outputs": [
    {
     "data": {
      "text/html": [
       "<div>\n",
       "<style scoped>\n",
       "    .dataframe tbody tr th:only-of-type {\n",
       "        vertical-align: middle;\n",
       "    }\n",
       "\n",
       "    .dataframe tbody tr th {\n",
       "        vertical-align: top;\n",
       "    }\n",
       "\n",
       "    .dataframe thead th {\n",
       "        text-align: right;\n",
       "    }\n",
       "</style>\n",
       "<table border=\"1\" class=\"dataframe\">\n",
       "  <thead>\n",
       "    <tr style=\"text-align: right;\">\n",
       "      <th></th>\n",
       "      <th>activity_id</th>\n",
       "      <th>activity_name</th>\n",
       "      <th>student_id</th>\n",
       "      <th>participation_level</th>\n",
       "      <th>achievement</th>\n",
       "    </tr>\n",
       "  </thead>\n",
       "  <tbody>\n",
       "    <tr>\n",
       "      <th>0</th>\n",
       "      <td>1</td>\n",
       "      <td>Science Club</td>\n",
       "      <td>1</td>\n",
       "      <td>Moderate</td>\n",
       "      <td>National</td>\n",
       "    </tr>\n",
       "    <tr>\n",
       "      <th>1</th>\n",
       "      <td>2</td>\n",
       "      <td>Debate Team</td>\n",
       "      <td>2</td>\n",
       "      <td>High</td>\n",
       "      <td>Local</td>\n",
       "    </tr>\n",
       "  </tbody>\n",
       "</table>\n",
       "</div>"
      ],
      "text/plain": [
       "   activity_id activity_name  student_id participation_level achievement\n",
       "0            1  Science Club           1            Moderate    National\n",
       "1            2   Debate Team           2                High       Local"
      ]
     },
     "execution_count": 64,
     "metadata": {},
     "output_type": "execute_result"
    }
   ],
   "source": [
    "extracurr_data.head(2)"
   ]
  },
  {
   "cell_type": "code",
   "execution_count": 65,
   "metadata": {},
   "outputs": [],
   "source": [
    "#the csv files have been imported, there are five csv files used in this project\n",
    "#we are going to join the dataframes together"
   ]
  },
  {
   "cell_type": "code",
   "execution_count": 66,
   "metadata": {},
   "outputs": [],
   "source": [
    "final_df = students_data.merge(school_data, on = 'student_id')"
   ]
  },
  {
   "cell_type": "code",
   "execution_count": 67,
   "metadata": {},
   "outputs": [],
   "source": [
    "# Merge dataframes on the common column\n",
    "final_df = students_data.merge(school_data, on=\"student_id\", how = \"outer\") \\\n",
    "               .merge(extracurr_data, on=\"student_id\",  how = \"outer\") \\\n",
    "               .merge(teachers_data, on=\"student_id\", how = \"outer\") \\\n",
    "               .merge(parent_data, on=\"student_id\", how = \"outer\")\n"
   ]
  },
  {
   "cell_type": "code",
   "execution_count": 68,
   "metadata": {},
   "outputs": [
    {
     "data": {
      "text/html": [
       "<div>\n",
       "<style scoped>\n",
       "    .dataframe tbody tr th:only-of-type {\n",
       "        vertical-align: middle;\n",
       "    }\n",
       "\n",
       "    .dataframe tbody tr th {\n",
       "        vertical-align: top;\n",
       "    }\n",
       "\n",
       "    .dataframe thead th {\n",
       "        text-align: right;\n",
       "    }\n",
       "</style>\n",
       "<table border=\"1\" class=\"dataframe\">\n",
       "  <thead>\n",
       "    <tr style=\"text-align: right;\">\n",
       "      <th></th>\n",
       "      <th>student_id</th>\n",
       "      <th>name</th>\n",
       "      <th>surname</th>\n",
       "      <th>gender</th>\n",
       "      <th>location</th>\n",
       "      <th>study_hours</th>\n",
       "      <th>parental_involvement_level</th>\n",
       "      <th>academic_performance</th>\n",
       "      <th>school_id</th>\n",
       "      <th>facilities_standard</th>\n",
       "      <th>...</th>\n",
       "      <th>academic_level</th>\n",
       "      <th>job_satisfaction</th>\n",
       "      <th>salary_satisfaction</th>\n",
       "      <th>students_performance_impact</th>\n",
       "      <th>parental_id</th>\n",
       "      <th>marital_status</th>\n",
       "      <th>educational_background</th>\n",
       "      <th>occupation</th>\n",
       "      <th>income_level</th>\n",
       "      <th>number_of_children</th>\n",
       "    </tr>\n",
       "  </thead>\n",
       "  <tbody>\n",
       "    <tr>\n",
       "      <th>0</th>\n",
       "      <td>1</td>\n",
       "      <td>Adunni</td>\n",
       "      <td>Ogunleye</td>\n",
       "      <td>Female</td>\n",
       "      <td>Ikosi</td>\n",
       "      <td>19.9</td>\n",
       "      <td>High</td>\n",
       "      <td>67.4</td>\n",
       "      <td>1</td>\n",
       "      <td>Advanced</td>\n",
       "      <td>...</td>\n",
       "      <td>Doctorate</td>\n",
       "      <td>Low</td>\n",
       "      <td>High</td>\n",
       "      <td>84.0</td>\n",
       "      <td>1</td>\n",
       "      <td>Divorced</td>\n",
       "      <td>Primary</td>\n",
       "      <td>Private Sector</td>\n",
       "      <td>Middle</td>\n",
       "      <td>3</td>\n",
       "    </tr>\n",
       "    <tr>\n",
       "      <th>1</th>\n",
       "      <td>2</td>\n",
       "      <td>Nwankwo</td>\n",
       "      <td>Nwankwo</td>\n",
       "      <td>Female</td>\n",
       "      <td>Mile 12</td>\n",
       "      <td>9.1</td>\n",
       "      <td>High</td>\n",
       "      <td>50.0</td>\n",
       "      <td>2</td>\n",
       "      <td>Basic</td>\n",
       "      <td>...</td>\n",
       "      <td>Doctorate</td>\n",
       "      <td>High</td>\n",
       "      <td>Moderate</td>\n",
       "      <td>52.2</td>\n",
       "      <td>2</td>\n",
       "      <td>Divorced</td>\n",
       "      <td>NaN</td>\n",
       "      <td>Private Sector</td>\n",
       "      <td>Middle</td>\n",
       "      <td>6</td>\n",
       "    </tr>\n",
       "    <tr>\n",
       "      <th>2</th>\n",
       "      <td>3</td>\n",
       "      <td>Eze</td>\n",
       "      <td>Nwankwo</td>\n",
       "      <td>Male</td>\n",
       "      <td>Ketu</td>\n",
       "      <td>14.1</td>\n",
       "      <td>Low</td>\n",
       "      <td>57.8</td>\n",
       "      <td>3</td>\n",
       "      <td>Moderate</td>\n",
       "      <td>...</td>\n",
       "      <td>Bachelor's</td>\n",
       "      <td>Moderate</td>\n",
       "      <td>Low</td>\n",
       "      <td>60.0</td>\n",
       "      <td>3</td>\n",
       "      <td>Widowed</td>\n",
       "      <td>Tertiary</td>\n",
       "      <td>Unemployed</td>\n",
       "      <td>Low</td>\n",
       "      <td>3</td>\n",
       "    </tr>\n",
       "    <tr>\n",
       "      <th>3</th>\n",
       "      <td>4</td>\n",
       "      <td>Musa</td>\n",
       "      <td>Garba</td>\n",
       "      <td>Female</td>\n",
       "      <td>Ikosi</td>\n",
       "      <td>14.0</td>\n",
       "      <td>Low</td>\n",
       "      <td>62.3</td>\n",
       "      <td>4</td>\n",
       "      <td>Advanced</td>\n",
       "      <td>...</td>\n",
       "      <td>Bachelor's</td>\n",
       "      <td>High</td>\n",
       "      <td>High</td>\n",
       "      <td>86.8</td>\n",
       "      <td>4</td>\n",
       "      <td>Single</td>\n",
       "      <td>NaN</td>\n",
       "      <td>Public Sector</td>\n",
       "      <td>High</td>\n",
       "      <td>6</td>\n",
       "    </tr>\n",
       "    <tr>\n",
       "      <th>4</th>\n",
       "      <td>5</td>\n",
       "      <td>Bashir</td>\n",
       "      <td>Ibrahim</td>\n",
       "      <td>Female</td>\n",
       "      <td>Ketu</td>\n",
       "      <td>11.8</td>\n",
       "      <td>Low</td>\n",
       "      <td>51.1</td>\n",
       "      <td>5</td>\n",
       "      <td>Advanced</td>\n",
       "      <td>...</td>\n",
       "      <td>Master's</td>\n",
       "      <td>High</td>\n",
       "      <td>High</td>\n",
       "      <td>62.9</td>\n",
       "      <td>5</td>\n",
       "      <td>Divorced</td>\n",
       "      <td>Tertiary</td>\n",
       "      <td>Public Sector</td>\n",
       "      <td>Middle</td>\n",
       "      <td>7</td>\n",
       "    </tr>\n",
       "  </tbody>\n",
       "</table>\n",
       "<p>5 rows × 26 columns</p>\n",
       "</div>"
      ],
      "text/plain": [
       "   student_id     name   surname  gender location  study_hours  \\\n",
       "0           1   Adunni  Ogunleye  Female    Ikosi         19.9   \n",
       "1           2  Nwankwo   Nwankwo  Female  Mile 12          9.1   \n",
       "2           3      Eze   Nwankwo    Male     Ketu         14.1   \n",
       "3           4     Musa     Garba  Female    Ikosi         14.0   \n",
       "4           5   Bashir   Ibrahim  Female     Ketu         11.8   \n",
       "\n",
       "  parental_involvement_level  academic_performance  school_id  \\\n",
       "0                       High                  67.4          1   \n",
       "1                       High                  50.0          2   \n",
       "2                        Low                  57.8          3   \n",
       "3                        Low                  62.3          4   \n",
       "4                        Low                  51.1          5   \n",
       "\n",
       "  facilities_standard  ...  academic_level  job_satisfaction  \\\n",
       "0            Advanced  ...       Doctorate               Low   \n",
       "1               Basic  ...       Doctorate              High   \n",
       "2            Moderate  ...      Bachelor's          Moderate   \n",
       "3            Advanced  ...      Bachelor's              High   \n",
       "4            Advanced  ...        Master's              High   \n",
       "\n",
       "  salary_satisfaction students_performance_impact parental_id  marital_status  \\\n",
       "0                High                        84.0           1        Divorced   \n",
       "1            Moderate                        52.2           2        Divorced   \n",
       "2                 Low                        60.0           3         Widowed   \n",
       "3                High                        86.8           4          Single   \n",
       "4                High                        62.9           5        Divorced   \n",
       "\n",
       "  educational_background      occupation income_level  number_of_children  \n",
       "0                Primary  Private Sector       Middle                   3  \n",
       "1                    NaN  Private Sector       Middle                   6  \n",
       "2               Tertiary      Unemployed          Low                   3  \n",
       "3                    NaN   Public Sector         High                   6  \n",
       "4               Tertiary   Public Sector       Middle                   7  \n",
       "\n",
       "[5 rows x 26 columns]"
      ]
     },
     "execution_count": 68,
     "metadata": {},
     "output_type": "execute_result"
    }
   ],
   "source": [
    "final_df.head()"
   ]
  },
  {
   "cell_type": "code",
   "execution_count": 69,
   "metadata": {},
   "outputs": [
    {
     "data": {
      "text/html": [
       "<div>\n",
       "<style scoped>\n",
       "    .dataframe tbody tr th:only-of-type {\n",
       "        vertical-align: middle;\n",
       "    }\n",
       "\n",
       "    .dataframe tbody tr th {\n",
       "        vertical-align: top;\n",
       "    }\n",
       "\n",
       "    .dataframe thead th {\n",
       "        text-align: right;\n",
       "    }\n",
       "</style>\n",
       "<table border=\"1\" class=\"dataframe\">\n",
       "  <thead>\n",
       "    <tr style=\"text-align: right;\">\n",
       "      <th></th>\n",
       "      <th>student_id</th>\n",
       "      <th>name</th>\n",
       "      <th>surname</th>\n",
       "      <th>gender</th>\n",
       "      <th>location</th>\n",
       "      <th>study_hours</th>\n",
       "      <th>parental_involvement_level</th>\n",
       "      <th>academic_performance</th>\n",
       "      <th>school_id</th>\n",
       "      <th>facilities_standard</th>\n",
       "      <th>...</th>\n",
       "      <th>academic_level</th>\n",
       "      <th>job_satisfaction</th>\n",
       "      <th>salary_satisfaction</th>\n",
       "      <th>students_performance_impact</th>\n",
       "      <th>parental_id</th>\n",
       "      <th>marital_status</th>\n",
       "      <th>educational_background</th>\n",
       "      <th>occupation</th>\n",
       "      <th>income_level</th>\n",
       "      <th>number_of_children</th>\n",
       "    </tr>\n",
       "  </thead>\n",
       "  <tbody>\n",
       "  </tbody>\n",
       "</table>\n",
       "<p>0 rows × 26 columns</p>\n",
       "</div>"
      ],
      "text/plain": [
       "Empty DataFrame\n",
       "Columns: [student_id, name, surname, gender, location, study_hours, parental_involvement_level, academic_performance, school_id, facilities_standard, student_percentage_pass, activity_id, activity_name, participation_level, achievement, teacher_id, academic_level, job_satisfaction, salary_satisfaction, students_performance_impact, parental_id, marital_status, educational_background, occupation, income_level, number_of_children]\n",
       "Index: []\n",
       "\n",
       "[0 rows x 26 columns]"
      ]
     },
     "execution_count": 69,
     "metadata": {},
     "output_type": "execute_result"
    }
   ],
   "source": [
    "final_df[final_df.duplicated]"
   ]
  },
  {
   "cell_type": "code",
   "execution_count": 70,
   "metadata": {},
   "outputs": [
    {
     "data": {
      "text/plain": [
       "student_id                       0\n",
       "name                             0\n",
       "surname                          0\n",
       "gender                           0\n",
       "location                         0\n",
       "study_hours                      0\n",
       "parental_involvement_level       0\n",
       "academic_performance             0\n",
       "school_id                        0\n",
       "facilities_standard              0\n",
       "student_percentage_pass          0\n",
       "activity_id                      0\n",
       "activity_name                    0\n",
       "participation_level              0\n",
       "achievement                    118\n",
       "teacher_id                       0\n",
       "academic_level                   0\n",
       "job_satisfaction                 0\n",
       "salary_satisfaction              0\n",
       "students_performance_impact      0\n",
       "parental_id                      0\n",
       "marital_status                   0\n",
       "educational_background         130\n",
       "occupation                       0\n",
       "income_level                     0\n",
       "number_of_children               0\n",
       "dtype: int64"
      ]
     },
     "execution_count": 70,
     "metadata": {},
     "output_type": "execute_result"
    }
   ],
   "source": [
    "final_df.isna().sum()"
   ]
  },
  {
   "cell_type": "code",
   "execution_count": 71,
   "metadata": {},
   "outputs": [
    {
     "data": {
      "text/plain": [
       "0      National\n",
       "1         Local\n",
       "2           NaN\n",
       "3      National\n",
       "4      Regional\n",
       "         ...   \n",
       "495         NaN\n",
       "496    Regional\n",
       "497    National\n",
       "498         NaN\n",
       "499    Regional\n",
       "Name: achievement, Length: 500, dtype: object"
      ]
     },
     "execution_count": 71,
     "metadata": {},
     "output_type": "execute_result"
    }
   ],
   "source": [
    "#some columns have None as their values but pandas converts None into NaN\n",
    "final_df.achievement"
   ]
  },
  {
   "cell_type": "code",
   "execution_count": 72,
   "metadata": {},
   "outputs": [],
   "source": [
    "#we made the corrections here\n",
    "final_df.fillna(\"None\",inplace=True)"
   ]
  },
  {
   "cell_type": "code",
   "execution_count": 73,
   "metadata": {},
   "outputs": [
    {
     "data": {
      "text/plain": [
       "student_id                     0\n",
       "name                           0\n",
       "surname                        0\n",
       "gender                         0\n",
       "location                       0\n",
       "study_hours                    0\n",
       "parental_involvement_level     0\n",
       "academic_performance           0\n",
       "school_id                      0\n",
       "facilities_standard            0\n",
       "student_percentage_pass        0\n",
       "activity_id                    0\n",
       "activity_name                  0\n",
       "participation_level            0\n",
       "achievement                    0\n",
       "teacher_id                     0\n",
       "academic_level                 0\n",
       "job_satisfaction               0\n",
       "salary_satisfaction            0\n",
       "students_performance_impact    0\n",
       "parental_id                    0\n",
       "marital_status                 0\n",
       "educational_background         0\n",
       "occupation                     0\n",
       "income_level                   0\n",
       "number_of_children             0\n",
       "dtype: int64"
      ]
     },
     "execution_count": 73,
     "metadata": {},
     "output_type": "execute_result"
    }
   ],
   "source": [
    "final_df.isna().sum()"
   ]
  },
  {
   "cell_type": "code",
   "execution_count": 74,
   "metadata": {},
   "outputs": [
    {
     "data": {
      "text/html": [
       "<div>\n",
       "<style scoped>\n",
       "    .dataframe tbody tr th:only-of-type {\n",
       "        vertical-align: middle;\n",
       "    }\n",
       "\n",
       "    .dataframe tbody tr th {\n",
       "        vertical-align: top;\n",
       "    }\n",
       "\n",
       "    .dataframe thead th {\n",
       "        text-align: right;\n",
       "    }\n",
       "</style>\n",
       "<table border=\"1\" class=\"dataframe\">\n",
       "  <thead>\n",
       "    <tr style=\"text-align: right;\">\n",
       "      <th></th>\n",
       "      <th>student_id</th>\n",
       "      <th>name</th>\n",
       "      <th>surname</th>\n",
       "      <th>gender</th>\n",
       "      <th>location</th>\n",
       "      <th>study_hours</th>\n",
       "      <th>parental_involvement_level</th>\n",
       "      <th>academic_performance</th>\n",
       "      <th>school_id</th>\n",
       "      <th>facilities_standard</th>\n",
       "      <th>...</th>\n",
       "      <th>academic_level</th>\n",
       "      <th>job_satisfaction</th>\n",
       "      <th>salary_satisfaction</th>\n",
       "      <th>students_performance_impact</th>\n",
       "      <th>parental_id</th>\n",
       "      <th>marital_status</th>\n",
       "      <th>educational_background</th>\n",
       "      <th>occupation</th>\n",
       "      <th>income_level</th>\n",
       "      <th>number_of_children</th>\n",
       "    </tr>\n",
       "  </thead>\n",
       "  <tbody>\n",
       "    <tr>\n",
       "      <th>0</th>\n",
       "      <td>1</td>\n",
       "      <td>Adunni</td>\n",
       "      <td>Ogunleye</td>\n",
       "      <td>Female</td>\n",
       "      <td>Ikosi</td>\n",
       "      <td>19.9</td>\n",
       "      <td>High</td>\n",
       "      <td>67.4</td>\n",
       "      <td>1</td>\n",
       "      <td>Advanced</td>\n",
       "      <td>...</td>\n",
       "      <td>Doctorate</td>\n",
       "      <td>Low</td>\n",
       "      <td>High</td>\n",
       "      <td>84.0</td>\n",
       "      <td>1</td>\n",
       "      <td>Divorced</td>\n",
       "      <td>Primary</td>\n",
       "      <td>Private Sector</td>\n",
       "      <td>Middle</td>\n",
       "      <td>3</td>\n",
       "    </tr>\n",
       "  </tbody>\n",
       "</table>\n",
       "<p>1 rows × 26 columns</p>\n",
       "</div>"
      ],
      "text/plain": [
       "   student_id    name   surname  gender location  study_hours  \\\n",
       "0           1  Adunni  Ogunleye  Female    Ikosi         19.9   \n",
       "\n",
       "  parental_involvement_level  academic_performance  school_id  \\\n",
       "0                       High                  67.4          1   \n",
       "\n",
       "  facilities_standard  ...  academic_level  job_satisfaction  \\\n",
       "0            Advanced  ...       Doctorate               Low   \n",
       "\n",
       "  salary_satisfaction students_performance_impact parental_id  marital_status  \\\n",
       "0                High                        84.0           1        Divorced   \n",
       "\n",
       "  educational_background      occupation income_level  number_of_children  \n",
       "0                Primary  Private Sector       Middle                   3  \n",
       "\n",
       "[1 rows x 26 columns]"
      ]
     },
     "execution_count": 74,
     "metadata": {},
     "output_type": "execute_result"
    }
   ],
   "source": [
    "final_df.head(1)"
   ]
  },
  {
   "cell_type": "code",
   "execution_count": 75,
   "metadata": {},
   "outputs": [
    {
     "name": "stdout",
     "output_type": "stream",
     "text": [
      "<class 'pandas.core.frame.DataFrame'>\n",
      "RangeIndex: 500 entries, 0 to 499\n",
      "Data columns (total 26 columns):\n",
      " #   Column                       Non-Null Count  Dtype  \n",
      "---  ------                       --------------  -----  \n",
      " 0   student_id                   500 non-null    int64  \n",
      " 1   name                         500 non-null    object \n",
      " 2   surname                      500 non-null    object \n",
      " 3   gender                       500 non-null    object \n",
      " 4   location                     500 non-null    object \n",
      " 5   study_hours                  500 non-null    float64\n",
      " 6   parental_involvement_level   500 non-null    object \n",
      " 7   academic_performance         500 non-null    float64\n",
      " 8   school_id                    500 non-null    int64  \n",
      " 9   facilities_standard          500 non-null    object \n",
      " 10  student_percentage_pass      500 non-null    float64\n",
      " 11  activity_id                  500 non-null    int64  \n",
      " 12  activity_name                500 non-null    object \n",
      " 13  participation_level          500 non-null    object \n",
      " 14  achievement                  500 non-null    object \n",
      " 15  teacher_id                   500 non-null    int64  \n",
      " 16  academic_level               500 non-null    object \n",
      " 17  job_satisfaction             500 non-null    object \n",
      " 18  salary_satisfaction          500 non-null    object \n",
      " 19  students_performance_impact  500 non-null    float64\n",
      " 20  parental_id                  500 non-null    int64  \n",
      " 21  marital_status               500 non-null    object \n",
      " 22  educational_background       500 non-null    object \n",
      " 23  occupation                   500 non-null    object \n",
      " 24  income_level                 500 non-null    object \n",
      " 25  number_of_children           500 non-null    int64  \n",
      "dtypes: float64(4), int64(6), object(16)\n",
      "memory usage: 101.7+ KB\n"
     ]
    }
   ],
   "source": [
    "final_df.info()"
   ]
  },
  {
   "cell_type": "code",
   "execution_count": 76,
   "metadata": {},
   "outputs": [],
   "source": [
    "#we are going to drop the columns with ID because they will not be needed in model development"
   ]
  },
  {
   "cell_type": "code",
   "execution_count": 77,
   "metadata": {},
   "outputs": [],
   "source": [
    "final_df.drop(['activity_id','student_id','parental_id','teacher_id','school_id'],axis = 1,\n",
    "              inplace=True)"
   ]
  },
  {
   "cell_type": "code",
   "execution_count": 78,
   "metadata": {},
   "outputs": [
    {
     "data": {
      "text/html": [
       "<div>\n",
       "<style scoped>\n",
       "    .dataframe tbody tr th:only-of-type {\n",
       "        vertical-align: middle;\n",
       "    }\n",
       "\n",
       "    .dataframe tbody tr th {\n",
       "        vertical-align: top;\n",
       "    }\n",
       "\n",
       "    .dataframe thead th {\n",
       "        text-align: right;\n",
       "    }\n",
       "</style>\n",
       "<table border=\"1\" class=\"dataframe\">\n",
       "  <thead>\n",
       "    <tr style=\"text-align: right;\">\n",
       "      <th></th>\n",
       "      <th>name</th>\n",
       "      <th>surname</th>\n",
       "      <th>gender</th>\n",
       "      <th>location</th>\n",
       "      <th>study_hours</th>\n",
       "      <th>parental_involvement_level</th>\n",
       "      <th>academic_performance</th>\n",
       "      <th>facilities_standard</th>\n",
       "      <th>student_percentage_pass</th>\n",
       "      <th>activity_name</th>\n",
       "      <th>...</th>\n",
       "      <th>achievement</th>\n",
       "      <th>academic_level</th>\n",
       "      <th>job_satisfaction</th>\n",
       "      <th>salary_satisfaction</th>\n",
       "      <th>students_performance_impact</th>\n",
       "      <th>marital_status</th>\n",
       "      <th>educational_background</th>\n",
       "      <th>occupation</th>\n",
       "      <th>income_level</th>\n",
       "      <th>number_of_children</th>\n",
       "    </tr>\n",
       "  </thead>\n",
       "  <tbody>\n",
       "    <tr>\n",
       "      <th>0</th>\n",
       "      <td>Adunni</td>\n",
       "      <td>Ogunleye</td>\n",
       "      <td>Female</td>\n",
       "      <td>Ikosi</td>\n",
       "      <td>19.9</td>\n",
       "      <td>High</td>\n",
       "      <td>67.4</td>\n",
       "      <td>Advanced</td>\n",
       "      <td>77.7</td>\n",
       "      <td>Science Club</td>\n",
       "      <td>...</td>\n",
       "      <td>National</td>\n",
       "      <td>Doctorate</td>\n",
       "      <td>Low</td>\n",
       "      <td>High</td>\n",
       "      <td>84.0</td>\n",
       "      <td>Divorced</td>\n",
       "      <td>Primary</td>\n",
       "      <td>Private Sector</td>\n",
       "      <td>Middle</td>\n",
       "      <td>3</td>\n",
       "    </tr>\n",
       "  </tbody>\n",
       "</table>\n",
       "<p>1 rows × 21 columns</p>\n",
       "</div>"
      ],
      "text/plain": [
       "     name   surname  gender location  study_hours parental_involvement_level  \\\n",
       "0  Adunni  Ogunleye  Female    Ikosi         19.9                       High   \n",
       "\n",
       "   academic_performance facilities_standard  student_percentage_pass  \\\n",
       "0                  67.4            Advanced                     77.7   \n",
       "\n",
       "  activity_name  ... achievement academic_level job_satisfaction  \\\n",
       "0  Science Club  ...    National      Doctorate              Low   \n",
       "\n",
       "  salary_satisfaction students_performance_impact  marital_status  \\\n",
       "0                High                        84.0        Divorced   \n",
       "\n",
       "  educational_background      occupation income_level number_of_children  \n",
       "0                Primary  Private Sector       Middle                  3  \n",
       "\n",
       "[1 rows x 21 columns]"
      ]
     },
     "execution_count": 78,
     "metadata": {},
     "output_type": "execute_result"
    }
   ],
   "source": [
    "final_df.head(1)"
   ]
  },
  {
   "cell_type": "code",
   "execution_count": 79,
   "metadata": {},
   "outputs": [
    {
     "data": {
      "text/html": [
       "<div>\n",
       "<style scoped>\n",
       "    .dataframe tbody tr th:only-of-type {\n",
       "        vertical-align: middle;\n",
       "    }\n",
       "\n",
       "    .dataframe tbody tr th {\n",
       "        vertical-align: top;\n",
       "    }\n",
       "\n",
       "    .dataframe thead th {\n",
       "        text-align: right;\n",
       "    }\n",
       "</style>\n",
       "<table border=\"1\" class=\"dataframe\">\n",
       "  <thead>\n",
       "    <tr style=\"text-align: right;\">\n",
       "      <th></th>\n",
       "      <th>study_hours</th>\n",
       "      <th>academic_performance</th>\n",
       "      <th>student_percentage_pass</th>\n",
       "      <th>students_performance_impact</th>\n",
       "      <th>number_of_children</th>\n",
       "    </tr>\n",
       "  </thead>\n",
       "  <tbody>\n",
       "    <tr>\n",
       "      <th>count</th>\n",
       "      <td>500.000000</td>\n",
       "      <td>500.000000</td>\n",
       "      <td>500.000000</td>\n",
       "      <td>500.000000</td>\n",
       "      <td>500.000000</td>\n",
       "    </tr>\n",
       "    <tr>\n",
       "      <th>mean</th>\n",
       "      <td>12.432600</td>\n",
       "      <td>54.852400</td>\n",
       "      <td>56.727200</td>\n",
       "      <td>74.487000</td>\n",
       "      <td>4.110000</td>\n",
       "    </tr>\n",
       "    <tr>\n",
       "      <th>std</th>\n",
       "      <td>4.458609</td>\n",
       "      <td>9.542333</td>\n",
       "      <td>12.889132</td>\n",
       "      <td>14.754902</td>\n",
       "      <td>2.045059</td>\n",
       "    </tr>\n",
       "    <tr>\n",
       "      <th>min</th>\n",
       "      <td>5.000000</td>\n",
       "      <td>35.600000</td>\n",
       "      <td>35.000000</td>\n",
       "      <td>50.100000</td>\n",
       "      <td>1.000000</td>\n",
       "    </tr>\n",
       "    <tr>\n",
       "      <th>25%</th>\n",
       "      <td>8.500000</td>\n",
       "      <td>46.875000</td>\n",
       "      <td>44.975000</td>\n",
       "      <td>61.675000</td>\n",
       "      <td>2.000000</td>\n",
       "    </tr>\n",
       "    <tr>\n",
       "      <th>50%</th>\n",
       "      <td>12.200000</td>\n",
       "      <td>54.450000</td>\n",
       "      <td>56.400000</td>\n",
       "      <td>73.850000</td>\n",
       "      <td>4.000000</td>\n",
       "    </tr>\n",
       "    <tr>\n",
       "      <th>75%</th>\n",
       "      <td>16.400000</td>\n",
       "      <td>62.425000</td>\n",
       "      <td>68.200000</td>\n",
       "      <td>87.000000</td>\n",
       "      <td>6.000000</td>\n",
       "    </tr>\n",
       "    <tr>\n",
       "      <th>max</th>\n",
       "      <td>20.000000</td>\n",
       "      <td>74.600000</td>\n",
       "      <td>79.700000</td>\n",
       "      <td>100.000000</td>\n",
       "      <td>7.000000</td>\n",
       "    </tr>\n",
       "  </tbody>\n",
       "</table>\n",
       "</div>"
      ],
      "text/plain": [
       "       study_hours  academic_performance  student_percentage_pass  \\\n",
       "count   500.000000            500.000000               500.000000   \n",
       "mean     12.432600             54.852400                56.727200   \n",
       "std       4.458609              9.542333                12.889132   \n",
       "min       5.000000             35.600000                35.000000   \n",
       "25%       8.500000             46.875000                44.975000   \n",
       "50%      12.200000             54.450000                56.400000   \n",
       "75%      16.400000             62.425000                68.200000   \n",
       "max      20.000000             74.600000                79.700000   \n",
       "\n",
       "       students_performance_impact  number_of_children  \n",
       "count                   500.000000          500.000000  \n",
       "mean                     74.487000            4.110000  \n",
       "std                      14.754902            2.045059  \n",
       "min                      50.100000            1.000000  \n",
       "25%                      61.675000            2.000000  \n",
       "50%                      73.850000            4.000000  \n",
       "75%                      87.000000            6.000000  \n",
       "max                     100.000000            7.000000  "
      ]
     },
     "execution_count": 79,
     "metadata": {},
     "output_type": "execute_result"
    }
   ],
   "source": [
    "final_df.describe()"
   ]
  },
  {
   "cell_type": "code",
   "execution_count": 80,
   "metadata": {},
   "outputs": [
    {
     "data": {
      "text/plain": [
       "Index(['name', 'surname', 'gender', 'location', 'study_hours',\n",
       "       'parental_involvement_level', 'academic_performance',\n",
       "       'facilities_standard', 'student_percentage_pass', 'activity_name',\n",
       "       'participation_level', 'achievement', 'academic_level',\n",
       "       'job_satisfaction', 'salary_satisfaction',\n",
       "       'students_performance_impact', 'marital_status',\n",
       "       'educational_background', 'occupation', 'income_level',\n",
       "       'number_of_children'],\n",
       "      dtype='object')"
      ]
     },
     "execution_count": 80,
     "metadata": {},
     "output_type": "execute_result"
    }
   ],
   "source": [
    "final_df.columns"
   ]
  },
  {
   "cell_type": "code",
   "execution_count": 81,
   "metadata": {},
   "outputs": [],
   "source": [
    "df = final_df.copy()"
   ]
  },
  {
   "cell_type": "code",
   "execution_count": 82,
   "metadata": {},
   "outputs": [],
   "source": [
    "#we are going to create a Target variable, for this variable, students that scored below 45 failed and above passed\n",
    "df['Target'] = df['academic_performance'].apply(lambda x: 'Failed' if x < 45 else 'Passed')\n"
   ]
  },
  {
   "cell_type": "code",
   "execution_count": 83,
   "metadata": {},
   "outputs": [
    {
     "data": {
      "text/html": [
       "<div>\n",
       "<style scoped>\n",
       "    .dataframe tbody tr th:only-of-type {\n",
       "        vertical-align: middle;\n",
       "    }\n",
       "\n",
       "    .dataframe tbody tr th {\n",
       "        vertical-align: top;\n",
       "    }\n",
       "\n",
       "    .dataframe thead th {\n",
       "        text-align: right;\n",
       "    }\n",
       "</style>\n",
       "<table border=\"1\" class=\"dataframe\">\n",
       "  <thead>\n",
       "    <tr style=\"text-align: right;\">\n",
       "      <th></th>\n",
       "      <th>name</th>\n",
       "      <th>surname</th>\n",
       "      <th>gender</th>\n",
       "      <th>location</th>\n",
       "      <th>study_hours</th>\n",
       "      <th>parental_involvement_level</th>\n",
       "      <th>academic_performance</th>\n",
       "      <th>facilities_standard</th>\n",
       "      <th>student_percentage_pass</th>\n",
       "      <th>activity_name</th>\n",
       "      <th>...</th>\n",
       "      <th>academic_level</th>\n",
       "      <th>job_satisfaction</th>\n",
       "      <th>salary_satisfaction</th>\n",
       "      <th>students_performance_impact</th>\n",
       "      <th>marital_status</th>\n",
       "      <th>educational_background</th>\n",
       "      <th>occupation</th>\n",
       "      <th>income_level</th>\n",
       "      <th>number_of_children</th>\n",
       "      <th>Target</th>\n",
       "    </tr>\n",
       "  </thead>\n",
       "  <tbody>\n",
       "    <tr>\n",
       "      <th>0</th>\n",
       "      <td>Adunni</td>\n",
       "      <td>Ogunleye</td>\n",
       "      <td>Female</td>\n",
       "      <td>Ikosi</td>\n",
       "      <td>19.9</td>\n",
       "      <td>High</td>\n",
       "      <td>67.4</td>\n",
       "      <td>Advanced</td>\n",
       "      <td>77.7</td>\n",
       "      <td>Science Club</td>\n",
       "      <td>...</td>\n",
       "      <td>Doctorate</td>\n",
       "      <td>Low</td>\n",
       "      <td>High</td>\n",
       "      <td>84.0</td>\n",
       "      <td>Divorced</td>\n",
       "      <td>Primary</td>\n",
       "      <td>Private Sector</td>\n",
       "      <td>Middle</td>\n",
       "      <td>3</td>\n",
       "      <td>Passed</td>\n",
       "    </tr>\n",
       "  </tbody>\n",
       "</table>\n",
       "<p>1 rows × 22 columns</p>\n",
       "</div>"
      ],
      "text/plain": [
       "     name   surname  gender location  study_hours parental_involvement_level  \\\n",
       "0  Adunni  Ogunleye  Female    Ikosi         19.9                       High   \n",
       "\n",
       "   academic_performance facilities_standard  student_percentage_pass  \\\n",
       "0                  67.4            Advanced                     77.7   \n",
       "\n",
       "  activity_name  ... academic_level job_satisfaction salary_satisfaction  \\\n",
       "0  Science Club  ...      Doctorate              Low                High   \n",
       "\n",
       "  students_performance_impact marital_status  educational_background  \\\n",
       "0                        84.0       Divorced                 Primary   \n",
       "\n",
       "       occupation income_level number_of_children  Target  \n",
       "0  Private Sector       Middle                  3  Passed  \n",
       "\n",
       "[1 rows x 22 columns]"
      ]
     },
     "execution_count": 83,
     "metadata": {},
     "output_type": "execute_result"
    }
   ],
   "source": [
    "df.head(1)"
   ]
  },
  {
   "cell_type": "code",
   "execution_count": 84,
   "metadata": {},
   "outputs": [
    {
     "data": {
      "text/plain": [
       "Target\n",
       "Passed    411\n",
       "Failed     89\n",
       "Name: count, dtype: int64"
      ]
     },
     "execution_count": 84,
     "metadata": {},
     "output_type": "execute_result"
    }
   ],
   "source": [
    "df.Target.value_counts()"
   ]
  },
  {
   "cell_type": "code",
   "execution_count": 85,
   "metadata": {},
   "outputs": [
    {
     "data": {
      "text/plain": [
       "<Axes: xlabel='Target'>"
      ]
     },
     "execution_count": 85,
     "metadata": {},
     "output_type": "execute_result"
    },
    {
     "data": {
      "image/png": "[encoded data removed]",
      "text/plain": [
       "<Figure size 640x480 with 1 Axes>"
      ]
     },
     "metadata": {},
     "output_type": "display_data"
    }
   ],
   "source": [
    "df.Target.value_counts().plot.bar()"
   ]
  },
  {
   "cell_type": "code",
   "execution_count": 86,
   "metadata": {},
   "outputs": [],
   "source": [
    "#more students passed the exams"
   ]
  },
  {
   "cell_type": "code",
   "execution_count": 87,
   "metadata": {},
   "outputs": [
    {
     "data": {
      "text/plain": [
       "<Axes: xlabel='gender'>"
      ]
     },
     "execution_count": 87,
     "metadata": {},
     "output_type": "execute_result"
    },
    {
     "data": {
      "image/png": "[encoded data removed]",
      "text/plain": [
       "<Figure size 640x480 with 1 Axes>"
      ]
     },
     "metadata": {},
     "output_type": "display_data"
    }
   ],
   "source": [
    "df.gender.value_counts().plot.bar()"
   ]
  },
  {
   "cell_type": "code",
   "execution_count": 88,
   "metadata": {},
   "outputs": [],
   "source": [
    "#there are more female students in the data"
   ]
  },
  {
   "cell_type": "code",
   "execution_count": 89,
   "metadata": {},
   "outputs": [],
   "source": [
    "#we are going to drop the name columns too\n",
    "\n",
    "df.drop(['name','surname'],\n",
    "        axis = 1,\n",
    "        inplace=True)"
   ]
  },
  {
   "cell_type": "code",
   "execution_count": 90,
   "metadata": {},
   "outputs": [
    {
     "data": {
      "text/html": [
       "<div>\n",
       "<style scoped>\n",
       "    .dataframe tbody tr th:only-of-type {\n",
       "        vertical-align: middle;\n",
       "    }\n",
       "\n",
       "    .dataframe tbody tr th {\n",
       "        vertical-align: top;\n",
       "    }\n",
       "\n",
       "    .dataframe thead th {\n",
       "        text-align: right;\n",
       "    }\n",
       "</style>\n",
       "<table border=\"1\" class=\"dataframe\">\n",
       "  <thead>\n",
       "    <tr style=\"text-align: right;\">\n",
       "      <th></th>\n",
       "      <th>gender</th>\n",
       "      <th>location</th>\n",
       "      <th>study_hours</th>\n",
       "      <th>parental_involvement_level</th>\n",
       "      <th>academic_performance</th>\n",
       "      <th>facilities_standard</th>\n",
       "      <th>student_percentage_pass</th>\n",
       "      <th>activity_name</th>\n",
       "      <th>participation_level</th>\n",
       "      <th>achievement</th>\n",
       "      <th>academic_level</th>\n",
       "      <th>job_satisfaction</th>\n",
       "      <th>salary_satisfaction</th>\n",
       "      <th>students_performance_impact</th>\n",
       "      <th>marital_status</th>\n",
       "      <th>educational_background</th>\n",
       "      <th>occupation</th>\n",
       "      <th>income_level</th>\n",
       "      <th>number_of_children</th>\n",
       "      <th>Target</th>\n",
       "    </tr>\n",
       "  </thead>\n",
       "  <tbody>\n",
       "    <tr>\n",
       "      <th>0</th>\n",
       "      <td>Female</td>\n",
       "      <td>Ikosi</td>\n",
       "      <td>19.9</td>\n",
       "      <td>High</td>\n",
       "      <td>67.4</td>\n",
       "      <td>Advanced</td>\n",
       "      <td>77.7</td>\n",
       "      <td>Science Club</td>\n",
       "      <td>Moderate</td>\n",
       "      <td>National</td>\n",
       "      <td>Doctorate</td>\n",
       "      <td>Low</td>\n",
       "      <td>High</td>\n",
       "      <td>84.0</td>\n",
       "      <td>Divorced</td>\n",
       "      <td>Primary</td>\n",
       "      <td>Private Sector</td>\n",
       "      <td>Middle</td>\n",
       "      <td>3</td>\n",
       "      <td>Passed</td>\n",
       "    </tr>\n",
       "  </tbody>\n",
       "</table>\n",
       "</div>"
      ],
      "text/plain": [
       "   gender location  study_hours parental_involvement_level  \\\n",
       "0  Female    Ikosi         19.9                       High   \n",
       "\n",
       "   academic_performance facilities_standard  student_percentage_pass  \\\n",
       "0                  67.4            Advanced                     77.7   \n",
       "\n",
       "  activity_name participation_level achievement academic_level  \\\n",
       "0  Science Club            Moderate    National      Doctorate   \n",
       "\n",
       "  job_satisfaction salary_satisfaction  students_performance_impact  \\\n",
       "0              Low                High                         84.0   \n",
       "\n",
       "  marital_status educational_background      occupation income_level  \\\n",
       "0       Divorced                Primary  Private Sector       Middle   \n",
       "\n",
       "   number_of_children  Target  \n",
       "0                   3  Passed  "
      ]
     },
     "execution_count": 90,
     "metadata": {},
     "output_type": "execute_result"
    }
   ],
   "source": [
    "df.head(1)"
   ]
  },
  {
   "cell_type": "code",
   "execution_count": 91,
   "metadata": {},
   "outputs": [],
   "source": [
    "#the student location too is aother column to keep an eye on\n",
    "df.drop('location',axis = 1,inplace=True)"
   ]
  },
  {
   "cell_type": "code",
   "execution_count": 92,
   "metadata": {},
   "outputs": [],
   "source": [
    "#replace the target variable with 1s and 0s"
   ]
  },
  {
   "cell_type": "code",
   "execution_count": 93,
   "metadata": {},
   "outputs": [
    {
     "name": "stderr",
     "output_type": "stream",
     "text": [
      "C:\\Users\\OLU-JUNAID & CO\\AppData\\Local\\Temp\\ipykernel_19776\\2164012965.py:1: FutureWarning: A value is trying to be set on a copy of a DataFrame or Series through chained assignment using an inplace method.\n",
      "The behavior will change in pandas 3.0. This inplace method will never work because the intermediate object on which we are setting values always behaves as a copy.\n",
      "\n",
      "For example, when doing 'df[col].method(value, inplace=True)', try using 'df.method({col: value}, inplace=True)' or df[col] = df[col].method(value) instead, to perform the operation inplace on the original object.\n",
      "\n",
      "\n",
      "  df.Target.replace({'Passed':1,\n",
      "C:\\Users\\OLU-JUNAID & CO\\AppData\\Local\\Temp\\ipykernel_19776\\2164012965.py:1: FutureWarning: Downcasting behavior in `replace` is deprecated and will be removed in a future version. To retain the old behavior, explicitly call `result.infer_objects(copy=False)`. To opt-in to the future behavior, set `pd.set_option('future.no_silent_downcasting', True)`\n",
      "  df.Target.replace({'Passed':1,\n"
     ]
    }
   ],
   "source": [
    "df.Target.replace({'Passed':1,\n",
    "                   'Failed':0},\n",
    "                   inplace = True)"
   ]
  },
  {
   "cell_type": "code",
   "execution_count": 94,
   "metadata": {},
   "outputs": [
    {
     "data": {
      "text/html": [
       "<div>\n",
       "<style scoped>\n",
       "    .dataframe tbody tr th:only-of-type {\n",
       "        vertical-align: middle;\n",
       "    }\n",
       "\n",
       "    .dataframe tbody tr th {\n",
       "        vertical-align: top;\n",
       "    }\n",
       "\n",
       "    .dataframe thead th {\n",
       "        text-align: right;\n",
       "    }\n",
       "</style>\n",
       "<table border=\"1\" class=\"dataframe\">\n",
       "  <thead>\n",
       "    <tr style=\"text-align: right;\">\n",
       "      <th></th>\n",
       "      <th>gender</th>\n",
       "      <th>study_hours</th>\n",
       "      <th>parental_involvement_level</th>\n",
       "      <th>academic_performance</th>\n",
       "      <th>facilities_standard</th>\n",
       "      <th>student_percentage_pass</th>\n",
       "      <th>activity_name</th>\n",
       "      <th>participation_level</th>\n",
       "      <th>achievement</th>\n",
       "      <th>academic_level</th>\n",
       "      <th>job_satisfaction</th>\n",
       "      <th>salary_satisfaction</th>\n",
       "      <th>students_performance_impact</th>\n",
       "      <th>marital_status</th>\n",
       "      <th>educational_background</th>\n",
       "      <th>occupation</th>\n",
       "      <th>income_level</th>\n",
       "      <th>number_of_children</th>\n",
       "      <th>Target</th>\n",
       "    </tr>\n",
       "  </thead>\n",
       "  <tbody>\n",
       "    <tr>\n",
       "      <th>0</th>\n",
       "      <td>Female</td>\n",
       "      <td>19.9</td>\n",
       "      <td>High</td>\n",
       "      <td>67.4</td>\n",
       "      <td>Advanced</td>\n",
       "      <td>77.7</td>\n",
       "      <td>Science Club</td>\n",
       "      <td>Moderate</td>\n",
       "      <td>National</td>\n",
       "      <td>Doctorate</td>\n",
       "      <td>Low</td>\n",
       "      <td>High</td>\n",
       "      <td>84.0</td>\n",
       "      <td>Divorced</td>\n",
       "      <td>Primary</td>\n",
       "      <td>Private Sector</td>\n",
       "      <td>Middle</td>\n",
       "      <td>3</td>\n",
       "      <td>1</td>\n",
       "    </tr>\n",
       "    <tr>\n",
       "      <th>1</th>\n",
       "      <td>Female</td>\n",
       "      <td>9.1</td>\n",
       "      <td>High</td>\n",
       "      <td>50.0</td>\n",
       "      <td>Basic</td>\n",
       "      <td>70.6</td>\n",
       "      <td>Debate Team</td>\n",
       "      <td>High</td>\n",
       "      <td>Local</td>\n",
       "      <td>Doctorate</td>\n",
       "      <td>High</td>\n",
       "      <td>Moderate</td>\n",
       "      <td>52.2</td>\n",
       "      <td>Divorced</td>\n",
       "      <td>None</td>\n",
       "      <td>Private Sector</td>\n",
       "      <td>Middle</td>\n",
       "      <td>6</td>\n",
       "      <td>1</td>\n",
       "    </tr>\n",
       "    <tr>\n",
       "      <th>2</th>\n",
       "      <td>Male</td>\n",
       "      <td>14.1</td>\n",
       "      <td>Low</td>\n",
       "      <td>57.8</td>\n",
       "      <td>Moderate</td>\n",
       "      <td>50.8</td>\n",
       "      <td>Debate Team</td>\n",
       "      <td>High</td>\n",
       "      <td>None</td>\n",
       "      <td>Bachelor's</td>\n",
       "      <td>Moderate</td>\n",
       "      <td>Low</td>\n",
       "      <td>60.0</td>\n",
       "      <td>Widowed</td>\n",
       "      <td>Tertiary</td>\n",
       "      <td>Unemployed</td>\n",
       "      <td>Low</td>\n",
       "      <td>3</td>\n",
       "      <td>1</td>\n",
       "    </tr>\n",
       "    <tr>\n",
       "      <th>3</th>\n",
       "      <td>Female</td>\n",
       "      <td>14.0</td>\n",
       "      <td>Low</td>\n",
       "      <td>62.3</td>\n",
       "      <td>Advanced</td>\n",
       "      <td>70.5</td>\n",
       "      <td>Football</td>\n",
       "      <td>High</td>\n",
       "      <td>National</td>\n",
       "      <td>Bachelor's</td>\n",
       "      <td>High</td>\n",
       "      <td>High</td>\n",
       "      <td>86.8</td>\n",
       "      <td>Single</td>\n",
       "      <td>None</td>\n",
       "      <td>Public Sector</td>\n",
       "      <td>High</td>\n",
       "      <td>6</td>\n",
       "      <td>1</td>\n",
       "    </tr>\n",
       "    <tr>\n",
       "      <th>4</th>\n",
       "      <td>Female</td>\n",
       "      <td>11.8</td>\n",
       "      <td>Low</td>\n",
       "      <td>51.1</td>\n",
       "      <td>Advanced</td>\n",
       "      <td>72.3</td>\n",
       "      <td>Music Band</td>\n",
       "      <td>Moderate</td>\n",
       "      <td>Regional</td>\n",
       "      <td>Master's</td>\n",
       "      <td>High</td>\n",
       "      <td>High</td>\n",
       "      <td>62.9</td>\n",
       "      <td>Divorced</td>\n",
       "      <td>Tertiary</td>\n",
       "      <td>Public Sector</td>\n",
       "      <td>Middle</td>\n",
       "      <td>7</td>\n",
       "      <td>1</td>\n",
       "    </tr>\n",
       "  </tbody>\n",
       "</table>\n",
       "</div>"
      ],
      "text/plain": [
       "   gender  study_hours parental_involvement_level  academic_performance  \\\n",
       "0  Female         19.9                       High                  67.4   \n",
       "1  Female          9.1                       High                  50.0   \n",
       "2    Male         14.1                        Low                  57.8   \n",
       "3  Female         14.0                        Low                  62.3   \n",
       "4  Female         11.8                        Low                  51.1   \n",
       "\n",
       "  facilities_standard  student_percentage_pass activity_name  \\\n",
       "0            Advanced                     77.7  Science Club   \n",
       "1               Basic                     70.6   Debate Team   \n",
       "2            Moderate                     50.8   Debate Team   \n",
       "3            Advanced                     70.5      Football   \n",
       "4            Advanced                     72.3    Music Band   \n",
       "\n",
       "  participation_level achievement academic_level job_satisfaction  \\\n",
       "0            Moderate    National      Doctorate              Low   \n",
       "1                High       Local      Doctorate             High   \n",
       "2                High        None     Bachelor's         Moderate   \n",
       "3                High    National     Bachelor's             High   \n",
       "4            Moderate    Regional       Master's             High   \n",
       "\n",
       "  salary_satisfaction  students_performance_impact marital_status  \\\n",
       "0                High                         84.0       Divorced   \n",
       "1            Moderate                         52.2       Divorced   \n",
       "2                 Low                         60.0        Widowed   \n",
       "3                High                         86.8         Single   \n",
       "4                High                         62.9       Divorced   \n",
       "\n",
       "  educational_background      occupation income_level  number_of_children  \\\n",
       "0                Primary  Private Sector       Middle                   3   \n",
       "1                   None  Private Sector       Middle                   6   \n",
       "2               Tertiary      Unemployed          Low                   3   \n",
       "3                   None   Public Sector         High                   6   \n",
       "4               Tertiary   Public Sector       Middle                   7   \n",
       "\n",
       "   Target  \n",
       "0       1  \n",
       "1       1  \n",
       "2       1  \n",
       "3       1  \n",
       "4       1  "
      ]
     },
     "execution_count": 94,
     "metadata": {},
     "output_type": "execute_result"
    }
   ],
   "source": [
    "df.head()"
   ]
  },
  {
   "cell_type": "code",
   "execution_count": 95,
   "metadata": {},
   "outputs": [
    {
     "data": {
      "text/plain": [
       "activity_name\n",
       "Debate Team     109\n",
       "Drama Club      104\n",
       "Music Band       99\n",
       "Science Club     96\n",
       "Football         92\n",
       "Name: count, dtype: int64"
      ]
     },
     "execution_count": 95,
     "metadata": {},
     "output_type": "execute_result"
    }
   ],
   "source": [
    "df.activity_name.value_counts()"
   ]
  },
  {
   "cell_type": "code",
   "execution_count": 96,
   "metadata": {},
   "outputs": [],
   "source": [
    "#separating the categorical and numerical columns\n",
    "num_cols = []\n",
    "cat_cols = []\n",
    "\n",
    "for c in df.columns:\n",
    "    if df[c].dtype == 'object':\n",
    "        cat_cols.append(c)\n",
    "    else:\n",
    "        num_cols.append(c)"
   ]
  },
  {
   "cell_type": "code",
   "execution_count": 97,
   "metadata": {},
   "outputs": [],
   "source": [
    "num_cols.remove('Target')"
   ]
  },
  {
   "cell_type": "code",
   "execution_count": 98,
   "metadata": {},
   "outputs": [
    {
     "data": {
      "text/plain": [
       "['gender',\n",
       " 'parental_involvement_level',\n",
       " 'facilities_standard',\n",
       " 'activity_name',\n",
       " 'participation_level',\n",
       " 'achievement',\n",
       " 'academic_level',\n",
       " 'job_satisfaction',\n",
       " 'salary_satisfaction',\n",
       " 'marital_status',\n",
       " 'educational_background',\n",
       " 'occupation',\n",
       " 'income_level']"
      ]
     },
     "execution_count": 98,
     "metadata": {},
     "output_type": "execute_result"
    }
   ],
   "source": [
    "cat_cols"
   ]
  },
  {
   "cell_type": "code",
   "execution_count": 99,
   "metadata": {},
   "outputs": [],
   "source": [
    "#split the data into x and y\n",
    "X = df.drop('Target',\n",
    "            axis = 1)\n",
    "y = df.Target"
   ]
  },
  {
   "cell_type": "code",
   "execution_count": 100,
   "metadata": {},
   "outputs": [],
   "source": [
    "#we are going to encode the categorical features "
   ]
  },
  {
   "cell_type": "code",
   "execution_count": 101,
   "metadata": {},
   "outputs": [
    {
     "data": {
      "text/html": [
       "<div>\n",
       "<style scoped>\n",
       "    .dataframe tbody tr th:only-of-type {\n",
       "        vertical-align: middle;\n",
       "    }\n",
       "\n",
       "    .dataframe tbody tr th {\n",
       "        vertical-align: top;\n",
       "    }\n",
       "\n",
       "    .dataframe thead th {\n",
       "        text-align: right;\n",
       "    }\n",
       "</style>\n",
       "<table border=\"1\" class=\"dataframe\">\n",
       "  <thead>\n",
       "    <tr style=\"text-align: right;\">\n",
       "      <th></th>\n",
       "      <th>gender_Male</th>\n",
       "      <th>parental_involvement_level_Low</th>\n",
       "      <th>parental_involvement_level_Moderate</th>\n",
       "      <th>facilities_standard_Basic</th>\n",
       "      <th>facilities_standard_Moderate</th>\n",
       "      <th>activity_name_Drama Club</th>\n",
       "      <th>activity_name_Football</th>\n",
       "      <th>activity_name_Music Band</th>\n",
       "      <th>activity_name_Science Club</th>\n",
       "      <th>participation_level_Low</th>\n",
       "      <th>...</th>\n",
       "      <th>marital_status_Single</th>\n",
       "      <th>marital_status_Widowed</th>\n",
       "      <th>educational_background_Primary</th>\n",
       "      <th>educational_background_Secondary</th>\n",
       "      <th>educational_background_Tertiary</th>\n",
       "      <th>occupation_Public Sector</th>\n",
       "      <th>occupation_Self-Employed</th>\n",
       "      <th>occupation_Unemployed</th>\n",
       "      <th>income_level_Low</th>\n",
       "      <th>income_level_Middle</th>\n",
       "    </tr>\n",
       "  </thead>\n",
       "  <tbody>\n",
       "    <tr>\n",
       "      <th>0</th>\n",
       "      <td>0.0</td>\n",
       "      <td>0.0</td>\n",
       "      <td>0.0</td>\n",
       "      <td>0.0</td>\n",
       "      <td>0.0</td>\n",
       "      <td>0.0</td>\n",
       "      <td>0.0</td>\n",
       "      <td>0.0</td>\n",
       "      <td>1.0</td>\n",
       "      <td>0.0</td>\n",
       "      <td>...</td>\n",
       "      <td>0.0</td>\n",
       "      <td>0.0</td>\n",
       "      <td>1.0</td>\n",
       "      <td>0.0</td>\n",
       "      <td>0.0</td>\n",
       "      <td>0.0</td>\n",
       "      <td>0.0</td>\n",
       "      <td>0.0</td>\n",
       "      <td>0.0</td>\n",
       "      <td>1.0</td>\n",
       "    </tr>\n",
       "  </tbody>\n",
       "</table>\n",
       "<p>1 rows × 31 columns</p>\n",
       "</div>"
      ],
      "text/plain": [
       "   gender_Male  parental_involvement_level_Low  \\\n",
       "0          0.0                             0.0   \n",
       "\n",
       "   parental_involvement_level_Moderate  facilities_standard_Basic  \\\n",
       "0                                  0.0                        0.0   \n",
       "\n",
       "   facilities_standard_Moderate  activity_name_Drama Club  \\\n",
       "0                           0.0                       0.0   \n",
       "\n",
       "   activity_name_Football  activity_name_Music Band  \\\n",
       "0                     0.0                       0.0   \n",
       "\n",
       "   activity_name_Science Club  participation_level_Low  ...  \\\n",
       "0                         1.0                      0.0  ...   \n",
       "\n",
       "   marital_status_Single  marital_status_Widowed  \\\n",
       "0                    0.0                     0.0   \n",
       "\n",
       "   educational_background_Primary  educational_background_Secondary  \\\n",
       "0                             1.0                               0.0   \n",
       "\n",
       "   educational_background_Tertiary  occupation_Public Sector  \\\n",
       "0                              0.0                       0.0   \n",
       "\n",
       "   occupation_Self-Employed  occupation_Unemployed  income_level_Low  \\\n",
       "0                       0.0                    0.0               0.0   \n",
       "\n",
       "   income_level_Middle  \n",
       "0                  1.0  \n",
       "\n",
       "[1 rows x 31 columns]"
      ]
     },
     "execution_count": 101,
     "metadata": {},
     "output_type": "execute_result"
    }
   ],
   "source": [
    "encoder = OneHotEncoder(drop = 'first')\n",
    "x_encoded = encoder.fit_transform(X[cat_cols]).toarray()\n",
    "x_encoded = pd.DataFrame(x_encoded,columns=encoder.get_feature_names_out(cat_cols))\n",
    "x_encoded.head(1)"
   ]
  },
  {
   "cell_type": "code",
   "execution_count": 102,
   "metadata": {},
   "outputs": [],
   "source": [
    "pickle.dump(encoder,open('encoder.pkl','wb'))"
   ]
  },
  {
   "cell_type": "code",
   "execution_count": 103,
   "metadata": {},
   "outputs": [
    {
     "data": {
      "text/html": [
       "<div>\n",
       "<style scoped>\n",
       "    .dataframe tbody tr th:only-of-type {\n",
       "        vertical-align: middle;\n",
       "    }\n",
       "\n",
       "    .dataframe tbody tr th {\n",
       "        vertical-align: top;\n",
       "    }\n",
       "\n",
       "    .dataframe thead th {\n",
       "        text-align: right;\n",
       "    }\n",
       "</style>\n",
       "<table border=\"1\" class=\"dataframe\">\n",
       "  <thead>\n",
       "    <tr style=\"text-align: right;\">\n",
       "      <th></th>\n",
       "      <th>study_hours</th>\n",
       "      <th>academic_performance</th>\n",
       "      <th>student_percentage_pass</th>\n",
       "      <th>students_performance_impact</th>\n",
       "      <th>number_of_children</th>\n",
       "    </tr>\n",
       "  </thead>\n",
       "  <tbody>\n",
       "    <tr>\n",
       "      <th>0</th>\n",
       "      <td>1.676505</td>\n",
       "      <td>1.316257</td>\n",
       "      <td>1.628799</td>\n",
       "      <td>0.645381</td>\n",
       "      <td>-0.543315</td>\n",
       "    </tr>\n",
       "  </tbody>\n",
       "</table>\n",
       "</div>"
      ],
      "text/plain": [
       "   study_hours  academic_performance  student_percentage_pass  \\\n",
       "0     1.676505              1.316257                 1.628799   \n",
       "\n",
       "   students_performance_impact  number_of_children  \n",
       "0                     0.645381           -0.543315  "
      ]
     },
     "execution_count": 103,
     "metadata": {},
     "output_type": "execute_result"
    }
   ],
   "source": [
    "#scaling numerical values to have it in the same range\n",
    "#we are going to use standard scaler\n",
    "\n",
    "scaler = StandardScaler()\n",
    "x_scaled = scaler.fit_transform(X[num_cols])\n",
    "x_scaled = pd.DataFrame(x_scaled, columns= num_cols)\n",
    "x_scaled.head(1)"
   ]
  },
  {
   "cell_type": "code",
   "execution_count": 104,
   "metadata": {},
   "outputs": [],
   "source": [
    "pickle.dump(scaler,open('scaler.pkl','wb'))"
   ]
  },
  {
   "cell_type": "code",
   "execution_count": 105,
   "metadata": {},
   "outputs": [
    {
     "data": {
      "text/html": [
       "<div>\n",
       "<style scoped>\n",
       "    .dataframe tbody tr th:only-of-type {\n",
       "        vertical-align: middle;\n",
       "    }\n",
       "\n",
       "    .dataframe tbody tr th {\n",
       "        vertical-align: top;\n",
       "    }\n",
       "\n",
       "    .dataframe thead th {\n",
       "        text-align: right;\n",
       "    }\n",
       "</style>\n",
       "<table border=\"1\" class=\"dataframe\">\n",
       "  <thead>\n",
       "    <tr style=\"text-align: right;\">\n",
       "      <th></th>\n",
       "      <th>study_hours</th>\n",
       "      <th>academic_performance</th>\n",
       "      <th>student_percentage_pass</th>\n",
       "      <th>students_performance_impact</th>\n",
       "      <th>number_of_children</th>\n",
       "      <th>gender_Male</th>\n",
       "      <th>parental_involvement_level_Low</th>\n",
       "      <th>parental_involvement_level_Moderate</th>\n",
       "      <th>facilities_standard_Basic</th>\n",
       "      <th>facilities_standard_Moderate</th>\n",
       "      <th>...</th>\n",
       "      <th>marital_status_Single</th>\n",
       "      <th>marital_status_Widowed</th>\n",
       "      <th>educational_background_Primary</th>\n",
       "      <th>educational_background_Secondary</th>\n",
       "      <th>educational_background_Tertiary</th>\n",
       "      <th>occupation_Public Sector</th>\n",
       "      <th>occupation_Self-Employed</th>\n",
       "      <th>occupation_Unemployed</th>\n",
       "      <th>income_level_Low</th>\n",
       "      <th>income_level_Middle</th>\n",
       "    </tr>\n",
       "  </thead>\n",
       "  <tbody>\n",
       "    <tr>\n",
       "      <th>0</th>\n",
       "      <td>1.676505</td>\n",
       "      <td>1.316257</td>\n",
       "      <td>1.628799</td>\n",
       "      <td>0.645381</td>\n",
       "      <td>-0.543315</td>\n",
       "      <td>0.0</td>\n",
       "      <td>0.0</td>\n",
       "      <td>0.0</td>\n",
       "      <td>0.0</td>\n",
       "      <td>0.0</td>\n",
       "      <td>...</td>\n",
       "      <td>0.0</td>\n",
       "      <td>0.0</td>\n",
       "      <td>1.0</td>\n",
       "      <td>0.0</td>\n",
       "      <td>0.0</td>\n",
       "      <td>0.0</td>\n",
       "      <td>0.0</td>\n",
       "      <td>0.0</td>\n",
       "      <td>0.0</td>\n",
       "      <td>1.0</td>\n",
       "    </tr>\n",
       "  </tbody>\n",
       "</table>\n",
       "<p>1 rows × 36 columns</p>\n",
       "</div>"
      ],
      "text/plain": [
       "   study_hours  academic_performance  student_percentage_pass  \\\n",
       "0     1.676505              1.316257                 1.628799   \n",
       "\n",
       "   students_performance_impact  number_of_children  gender_Male  \\\n",
       "0                     0.645381           -0.543315          0.0   \n",
       "\n",
       "   parental_involvement_level_Low  parental_involvement_level_Moderate  \\\n",
       "0                             0.0                                  0.0   \n",
       "\n",
       "   facilities_standard_Basic  facilities_standard_Moderate  ...  \\\n",
       "0                        0.0                           0.0  ...   \n",
       "\n",
       "   marital_status_Single  marital_status_Widowed  \\\n",
       "0                    0.0                     0.0   \n",
       "\n",
       "   educational_background_Primary  educational_background_Secondary  \\\n",
       "0                             1.0                               0.0   \n",
       "\n",
       "   educational_background_Tertiary  occupation_Public Sector  \\\n",
       "0                              0.0                       0.0   \n",
       "\n",
       "   occupation_Self-Employed  occupation_Unemployed  income_level_Low  \\\n",
       "0                       0.0                    0.0               0.0   \n",
       "\n",
       "   income_level_Middle  \n",
       "0                  1.0  \n",
       "\n",
       "[1 rows x 36 columns]"
      ]
     },
     "execution_count": 105,
     "metadata": {},
     "output_type": "execute_result"
    }
   ],
   "source": [
    "#combining the scaled numerical features and the encoded categorical features\n",
    "X = pd.concat([x_scaled,x_encoded],axis=1)\n",
    "X.head(1)"
   ]
  },
  {
   "cell_type": "code",
   "execution_count": 106,
   "metadata": {},
   "outputs": [],
   "source": [
    "x_train,x_test,y_train,y_test = train_test_split(X,y,test_size=0.2,random_state=42)"
   ]
  },
  {
   "cell_type": "code",
   "execution_count": 107,
   "metadata": {},
   "outputs": [
    {
     "data": {
      "text/plain": [
       "1.0"
      ]
     },
     "execution_count": 107,
     "metadata": {},
     "output_type": "execute_result"
    }
   ],
   "source": [
    "model = RandomForestClassifier()\n",
    "model.fit(x_train,y_train)\n",
    "model.score(x_train,y_train)"
   ]
  },
  {
   "cell_type": "code",
   "execution_count": 108,
   "metadata": {},
   "outputs": [
    {
     "data": {
      "text/plain": [
       "1.0"
      ]
     },
     "execution_count": 108,
     "metadata": {},
     "output_type": "execute_result"
    }
   ],
   "source": [
    "model.score(x_test,y_test)"
   ]
  },
  {
   "cell_type": "markdown",
   "metadata": {},
   "source": [
    "##### The model has a high accuracy score"
   ]
  },
  {
   "cell_type": "code",
   "execution_count": 109,
   "metadata": {},
   "outputs": [],
   "source": [
    "pickle.dump(model,open('model.pkl','wb'))"
   ]
  },
  {
   "cell_type": "code",
   "execution_count": 110,
   "metadata": {},
   "outputs": [],
   "source": [
    "#making predictions\n",
    "y_pred = model.predict(x_test)"
   ]
  },
  {
   "cell_type": "markdown",
   "metadata": {},
   "source": [
    "##### Evaluation of the model"
   ]
  },
  {
   "cell_type": "code",
   "execution_count": 111,
   "metadata": {},
   "outputs": [
    {
     "data": {
      "text/plain": [
       "array([[19,  0],\n",
       "       [ 0, 81]])"
      ]
     },
     "execution_count": 111,
     "metadata": {},
     "output_type": "execute_result"
    }
   ],
   "source": [
    "#confusion matrix\n",
    "confusion_matrix(y_test,y_pred)"
   ]
  },
  {
   "cell_type": "code",
   "execution_count": 112,
   "metadata": {},
   "outputs": [
    {
     "name": "stdout",
     "output_type": "stream",
     "text": [
      "              precision    recall  f1-score   support\n",
      "\n",
      "           0       1.00      1.00      1.00        19\n",
      "           1       1.00      1.00      1.00        81\n",
      "\n",
      "    accuracy                           1.00       100\n",
      "   macro avg       1.00      1.00      1.00       100\n",
      "weighted avg       1.00      1.00      1.00       100\n",
      "\n"
     ]
    }
   ],
   "source": [
    "print(classification_report(y_test,y_pred))"
   ]
  },
  {
   "cell_type": "code",
   "execution_count": 113,
   "metadata": {},
   "outputs": [],
   "source": [
    "#the model has a high precision and recall which means it is adept at predicting both classes"
   ]
  },
  {
   "cell_type": "code",
   "execution_count": null,
   "metadata": {},
   "outputs": [],
   "source": []
  },
  {
   "cell_type": "code",
   "execution_count": 114,
   "metadata": {},
   "outputs": [
    {
     "name": "stdout",
     "output_type": "stream",
     "text": [
      "Scores are  [0.99 1.   0.99 1.   0.99]\n",
      "Mean score is  0.994\n"
     ]
    }
   ],
   "source": [
    "#cross validation \n",
    "cv_scores = cross_val_score(model,X,y,cv = 5)\n",
    "\n",
    "print('Scores are ',cv_scores)\n",
    "print(\"Mean score is \", cv_scores.mean())"
   ]
  },
  {
   "cell_type": "code",
   "execution_count": 387,
   "metadata": {},
   "outputs": [],
   "source": [
    "### it can be deduced that the model generalises well"
   ]
  },
  {
   "cell_type": "code",
   "execution_count": 115,
   "metadata": {},
   "outputs": [],
   "source": [
    "#we are going to try out another model to get a second opinion on the model performance"
   ]
  },
  {
   "cell_type": "code",
   "execution_count": 116,
   "metadata": {},
   "outputs": [
    {
     "data": {
      "text/html": [
       "<style>#sk-container-id-1 {\n",
       "  /* Definition of color scheme common for light and dark mode */\n",
       "  --sklearn-color-text: black;\n",
       "  --sklearn-color-line: gray;\n",
       "  /* Definition of color scheme for unfitted estimators */\n",
       "  --sklearn-color-unfitted-level-0: #fff5e6;\n",
       "  --sklearn-color-unfitted-level-1: #f6e4d2;\n",
       "  --sklearn-color-unfitted-level-2: #ffe0b3;\n",
       "  --sklearn-color-unfitted-level-3: chocolate;\n",
       "  /* Definition of color scheme for fitted estimators */\n",
       "  --sklearn-color-fitted-level-0: #f0f8ff;\n",
       "  --sklearn-color-fitted-level-1: #d4ebff;\n",
       "  --sklearn-color-fitted-level-2: #b3dbfd;\n",
       "  --sklearn-color-fitted-level-3: cornflowerblue;\n",
       "\n",
       "  /* Specific color for light theme */\n",
       "  --sklearn-color-text-on-default-background: var(--sg-text-color, var(--theme-code-foreground, var(--jp-content-font-color1, black)));\n",
       "  --sklearn-color-background: var(--sg-background-color, var(--theme-background, var(--jp-layout-color0, white)));\n",
       "  --sklearn-color-border-box: var(--sg-text-color, var(--theme-code-foreground, var(--jp-content-font-color1, black)));\n",
       "  --sklearn-color-icon: #696969;\n",
       "\n",
       "  @media (prefers-color-scheme: dark) {\n",
       "    /* Redefinition of color scheme for dark theme */\n",
       "    --sklearn-color-text-on-default-background: var(--sg-text-color, var(--theme-code-foreground, var(--jp-content-font-color1, white)));\n",
       "    --sklearn-color-background: var(--sg-background-color, var(--theme-background, var(--jp-layout-color0, #111)));\n",
       "    --sklearn-color-border-box: var(--sg-text-color, var(--theme-code-foreground, var(--jp-content-font-color1, white)));\n",
       "    --sklearn-color-icon: #878787;\n",
       "  }\n",
       "}\n",
       "\n",
       "#sk-container-id-1 {\n",
       "  color: var(--sklearn-color-text);\n",
       "}\n",
       "\n",
       "#sk-container-id-1 pre {\n",
       "  padding: 0;\n",
       "}\n",
       "\n",
       "#sk-container-id-1 input.sk-hidden--visually {\n",
       "  border: 0;\n",
       "  clip: rect(1px 1px 1px 1px);\n",
       "  clip: rect(1px, 1px, 1px, 1px);\n",
       "  height: 1px;\n",
       "  margin: -1px;\n",
       "  overflow: hidden;\n",
       "  padding: 0;\n",
       "  position: absolute;\n",
       "  width: 1px;\n",
       "}\n",
       "\n",
       "#sk-container-id-1 div.sk-dashed-wrapped {\n",
       "  border: 1px dashed var(--sklearn-color-line);\n",
       "  margin: 0 0.4em 0.5em 0.4em;\n",
       "  box-sizing: border-box;\n",
       "  padding-bottom: 0.4em;\n",
       "  background-color: var(--sklearn-color-background);\n",
       "}\n",
       "\n",
       "#sk-container-id-1 div.sk-container {\n",
       "  /* jupyter's `normalize.less` sets `[hidden] { display: none; }`\n",
       "     but bootstrap.min.css set `[hidden] { display: none !important; }`\n",
       "     so we also need the `!important` here to be able to override the\n",
       "     default hidden behavior on the sphinx rendered scikit-learn.org.\n",
       "     See: https://github.com/scikit-learn/scikit-learn/issues/21755 */\n",
       "  display: inline-block !important;\n",
       "  position: relative;\n",
       "}\n",
       "\n",
       "#sk-container-id-1 div.sk-text-repr-fallback {\n",
       "  display: none;\n",
       "}\n",
       "\n",
       "div.sk-parallel-item,\n",
       "div.sk-serial,\n",
       "div.sk-item {\n",
       "  /* draw centered vertical line to link estimators */\n",
       "  background-image: linear-gradient(var(--sklearn-color-text-on-default-background), var(--sklearn-color-text-on-default-background));\n",
       "  background-size: 2px 100%;\n",
       "  background-repeat: no-repeat;\n",
       "  background-position: center center;\n",
       "}\n",
       "\n",
       "/* Parallel-specific style estimator block */\n",
       "\n",
       "#sk-container-id-1 div.sk-parallel-item::after {\n",
       "  content: \"\";\n",
       "  width: 100%;\n",
       "  border-bottom: 2px solid var(--sklearn-color-text-on-default-background);\n",
       "  flex-grow: 1;\n",
       "}\n",
       "\n",
       "#sk-container-id-1 div.sk-parallel {\n",
       "  display: flex;\n",
       "  align-items: stretch;\n",
       "  justify-content: center;\n",
       "  background-color: var(--sklearn-color-background);\n",
       "  position: relative;\n",
       "}\n",
       "\n",
       "#sk-container-id-1 div.sk-parallel-item {\n",
       "  display: flex;\n",
       "  flex-direction: column;\n",
       "}\n",
       "\n",
       "#sk-container-id-1 div.sk-parallel-item:first-child::after {\n",
       "  align-self: flex-end;\n",
       "  width: 50%;\n",
       "}\n",
       "\n",
       "#sk-container-id-1 div.sk-parallel-item:last-child::after {\n",
       "  align-self: flex-start;\n",
       "  width: 50%;\n",
       "}\n",
       "\n",
       "#sk-container-id-1 div.sk-parallel-item:only-child::after {\n",
       "  width: 0;\n",
       "}\n",
       "\n",
       "/* Serial-specific style estimator block */\n",
       "\n",
       "#sk-container-id-1 div.sk-serial {\n",
       "  display: flex;\n",
       "  flex-direction: column;\n",
       "  align-items: center;\n",
       "  background-color: var(--sklearn-color-background);\n",
       "  padding-right: 1em;\n",
       "  padding-left: 1em;\n",
       "}\n",
       "\n",
       "\n",
       "/* Toggleable style: style used for estimator/Pipeline/ColumnTransformer box that is\n",
       "clickable and can be expanded/collapsed.\n",
       "- Pipeline and ColumnTransformer use this feature and define the default style\n",
       "- Estimators will overwrite some part of the style using the `sk-estimator` class\n",
       "*/\n",
       "\n",
       "/* Pipeline and ColumnTransformer style (default) */\n",
       "\n",
       "#sk-container-id-1 div.sk-toggleable {\n",
       "  /* Default theme specific background. It is overwritten whether we have a\n",
       "  specific estimator or a Pipeline/ColumnTransformer */\n",
       "  background-color: var(--sklearn-color-background);\n",
       "}\n",
       "\n",
       "/* Toggleable label */\n",
       "#sk-container-id-1 label.sk-toggleable__label {\n",
       "  cursor: pointer;\n",
       "  display: block;\n",
       "  width: 100%;\n",
       "  margin-bottom: 0;\n",
       "  padding: 0.5em;\n",
       "  box-sizing: border-box;\n",
       "  text-align: center;\n",
       "}\n",
       "\n",
       "#sk-container-id-1 label.sk-toggleable__label-arrow:before {\n",
       "  /* Arrow on the left of the label */\n",
       "  content: \"▸\";\n",
       "  float: left;\n",
       "  margin-right: 0.25em;\n",
       "  color: var(--sklearn-color-icon);\n",
       "}\n",
       "\n",
       "#sk-container-id-1 label.sk-toggleable__label-arrow:hover:before {\n",
       "  color: var(--sklearn-color-text);\n",
       "}\n",
       "\n",
       "/* Toggleable content - dropdown */\n",
       "\n",
       "#sk-container-id-1 div.sk-toggleable__content {\n",
       "  max-height: 0;\n",
       "  max-width: 0;\n",
       "  overflow: hidden;\n",
       "  text-align: left;\n",
       "  /* unfitted */\n",
       "  background-color: var(--sklearn-color-unfitted-level-0);\n",
       "}\n",
       "\n",
       "#sk-container-id-1 div.sk-toggleable__content.fitted {\n",
       "  /* fitted */\n",
       "  background-color: var(--sklearn-color-fitted-level-0);\n",
       "}\n",
       "\n",
       "#sk-container-id-1 div.sk-toggleable__content pre {\n",
       "  margin: 0.2em;\n",
       "  border-radius: 0.25em;\n",
       "  color: var(--sklearn-color-text);\n",
       "  /* unfitted */\n",
       "  background-color: var(--sklearn-color-unfitted-level-0);\n",
       "}\n",
       "\n",
       "#sk-container-id-1 div.sk-toggleable__content.fitted pre {\n",
       "  /* unfitted */\n",
       "  background-color: var(--sklearn-color-fitted-level-0);\n",
       "}\n",
       "\n",
       "#sk-container-id-1 input.sk-toggleable__control:checked~div.sk-toggleable__content {\n",
       "  /* Expand drop-down */\n",
       "  max-height: 200px;\n",
       "  max-width: 100%;\n",
       "  overflow: auto;\n",
       "}\n",
       "\n",
       "#sk-container-id-1 input.sk-toggleable__control:checked~label.sk-toggleable__label-arrow:before {\n",
       "  content: \"▾\";\n",
       "}\n",
       "\n",
       "/* Pipeline/ColumnTransformer-specific style */\n",
       "\n",
       "#sk-container-id-1 div.sk-label input.sk-toggleable__control:checked~label.sk-toggleable__label {\n",
       "  color: var(--sklearn-color-text);\n",
       "  background-color: var(--sklearn-color-unfitted-level-2);\n",
       "}\n",
       "\n",
       "#sk-container-id-1 div.sk-label.fitted input.sk-toggleable__control:checked~label.sk-toggleable__label {\n",
       "  background-color: var(--sklearn-color-fitted-level-2);\n",
       "}\n",
       "\n",
       "/* Estimator-specific style */\n",
       "\n",
       "/* Colorize estimator box */\n",
       "#sk-container-id-1 div.sk-estimator input.sk-toggleable__control:checked~label.sk-toggleable__label {\n",
       "  /* unfitted */\n",
       "  background-color: var(--sklearn-color-unfitted-level-2);\n",
       "}\n",
       "\n",
       "#sk-container-id-1 div.sk-estimator.fitted input.sk-toggleable__control:checked~label.sk-toggleable__label {\n",
       "  /* fitted */\n",
       "  background-color: var(--sklearn-color-fitted-level-2);\n",
       "}\n",
       "\n",
       "#sk-container-id-1 div.sk-label label.sk-toggleable__label,\n",
       "#sk-container-id-1 div.sk-label label {\n",
       "  /* The background is the default theme color */\n",
       "  color: var(--sklearn-color-text-on-default-background);\n",
       "}\n",
       "\n",
       "/* On hover, darken the color of the background */\n",
       "#sk-container-id-1 div.sk-label:hover label.sk-toggleable__label {\n",
       "  color: var(--sklearn-color-text);\n",
       "  background-color: var(--sklearn-color-unfitted-level-2);\n",
       "}\n",
       "\n",
       "/* Label box, darken color on hover, fitted */\n",
       "#sk-container-id-1 div.sk-label.fitted:hover label.sk-toggleable__label.fitted {\n",
       "  color: var(--sklearn-color-text);\n",
       "  background-color: var(--sklearn-color-fitted-level-2);\n",
       "}\n",
       "\n",
       "/* Estimator label */\n",
       "\n",
       "#sk-container-id-1 div.sk-label label {\n",
       "  font-family: monospace;\n",
       "  font-weight: bold;\n",
       "  display: inline-block;\n",
       "  line-height: 1.2em;\n",
       "}\n",
       "\n",
       "#sk-container-id-1 div.sk-label-container {\n",
       "  text-align: center;\n",
       "}\n",
       "\n",
       "/* Estimator-specific */\n",
       "#sk-container-id-1 div.sk-estimator {\n",
       "  font-family: monospace;\n",
       "  border: 1px dotted var(--sklearn-color-border-box);\n",
       "  border-radius: 0.25em;\n",
       "  box-sizing: border-box;\n",
       "  margin-bottom: 0.5em;\n",
       "  /* unfitted */\n",
       "  background-color: var(--sklearn-color-unfitted-level-0);\n",
       "}\n",
       "\n",
       "#sk-container-id-1 div.sk-estimator.fitted {\n",
       "  /* fitted */\n",
       "  background-color: var(--sklearn-color-fitted-level-0);\n",
       "}\n",
       "\n",
       "/* on hover */\n",
       "#sk-container-id-1 div.sk-estimator:hover {\n",
       "  /* unfitted */\n",
       "  background-color: var(--sklearn-color-unfitted-level-2);\n",
       "}\n",
       "\n",
       "#sk-container-id-1 div.sk-estimator.fitted:hover {\n",
       "  /* fitted */\n",
       "  background-color: var(--sklearn-color-fitted-level-2);\n",
       "}\n",
       "\n",
       "/* Specification for estimator info (e.g. \"i\" and \"?\") */\n",
       "\n",
       "/* Common style for \"i\" and \"?\" */\n",
       "\n",
       ".sk-estimator-doc-link,\n",
       "a:link.sk-estimator-doc-link,\n",
       "a:visited.sk-estimator-doc-link {\n",
       "  float: right;\n",
       "  font-size: smaller;\n",
       "  line-height: 1em;\n",
       "  font-family: monospace;\n",
       "  background-color: var(--sklearn-color-background);\n",
       "  border-radius: 1em;\n",
       "  height: 1em;\n",
       "  width: 1em;\n",
       "  text-decoration: none !important;\n",
       "  margin-left: 1ex;\n",
       "  /* unfitted */\n",
       "  border: var(--sklearn-color-unfitted-level-1) 1pt solid;\n",
       "  color: var(--sklearn-color-unfitted-level-1);\n",
       "}\n",
       "\n",
       ".sk-estimator-doc-link.fitted,\n",
       "a:link.sk-estimator-doc-link.fitted,\n",
       "a:visited.sk-estimator-doc-link.fitted {\n",
       "  /* fitted */\n",
       "  border: var(--sklearn-color-fitted-level-1) 1pt solid;\n",
       "  color: var(--sklearn-color-fitted-level-1);\n",
       "}\n",
       "\n",
       "/* On hover */\n",
       "div.sk-estimator:hover .sk-estimator-doc-link:hover,\n",
       ".sk-estimator-doc-link:hover,\n",
       "div.sk-label-container:hover .sk-estimator-doc-link:hover,\n",
       ".sk-estimator-doc-link:hover {\n",
       "  /* unfitted */\n",
       "  background-color: var(--sklearn-color-unfitted-level-3);\n",
       "  color: var(--sklearn-color-background);\n",
       "  text-decoration: none;\n",
       "}\n",
       "\n",
       "div.sk-estimator.fitted:hover .sk-estimator-doc-link.fitted:hover,\n",
       ".sk-estimator-doc-link.fitted:hover,\n",
       "div.sk-label-container:hover .sk-estimator-doc-link.fitted:hover,\n",
       ".sk-estimator-doc-link.fitted:hover {\n",
       "  /* fitted */\n",
       "  background-color: var(--sklearn-color-fitted-level-3);\n",
       "  color: var(--sklearn-color-background);\n",
       "  text-decoration: none;\n",
       "}\n",
       "\n",
       "/* Span, style for the box shown on hovering the info icon */\n",
       ".sk-estimator-doc-link span {\n",
       "  display: none;\n",
       "  z-index: 9999;\n",
       "  position: relative;\n",
       "  font-weight: normal;\n",
       "  right: .2ex;\n",
       "  padding: .5ex;\n",
       "  margin: .5ex;\n",
       "  width: min-content;\n",
       "  min-width: 20ex;\n",
       "  max-width: 50ex;\n",
       "  color: var(--sklearn-color-text);\n",
       "  box-shadow: 2pt 2pt 4pt #999;\n",
       "  /* unfitted */\n",
       "  background: var(--sklearn-color-unfitted-level-0);\n",
       "  border: .5pt solid var(--sklearn-color-unfitted-level-3);\n",
       "}\n",
       "\n",
       ".sk-estimator-doc-link.fitted span {\n",
       "  /* fitted */\n",
       "  background: var(--sklearn-color-fitted-level-0);\n",
       "  border: var(--sklearn-color-fitted-level-3);\n",
       "}\n",
       "\n",
       ".sk-estimator-doc-link:hover span {\n",
       "  display: block;\n",
       "}\n",
       "\n",
       "/* \"?\"-specific style due to the `<a>` HTML tag */\n",
       "\n",
       "#sk-container-id-1 a.estimator_doc_link {\n",
       "  float: right;\n",
       "  font-size: 1rem;\n",
       "  line-height: 1em;\n",
       "  font-family: monospace;\n",
       "  background-color: var(--sklearn-color-background);\n",
       "  border-radius: 1rem;\n",
       "  height: 1rem;\n",
       "  width: 1rem;\n",
       "  text-decoration: none;\n",
       "  /* unfitted */\n",
       "  color: var(--sklearn-color-unfitted-level-1);\n",
       "  border: var(--sklearn-color-unfitted-level-1) 1pt solid;\n",
       "}\n",
       "\n",
       "#sk-container-id-1 a.estimator_doc_link.fitted {\n",
       "  /* fitted */\n",
       "  border: var(--sklearn-color-fitted-level-1) 1pt solid;\n",
       "  color: var(--sklearn-color-fitted-level-1);\n",
       "}\n",
       "\n",
       "/* On hover */\n",
       "#sk-container-id-1 a.estimator_doc_link:hover {\n",
       "  /* unfitted */\n",
       "  background-color: var(--sklearn-color-unfitted-level-3);\n",
       "  color: var(--sklearn-color-background);\n",
       "  text-decoration: none;\n",
       "}\n",
       "\n",
       "#sk-container-id-1 a.estimator_doc_link.fitted:hover {\n",
       "  /* fitted */\n",
       "  background-color: var(--sklearn-color-fitted-level-3);\n",
       "}\n",
       "</style><div id=\"sk-container-id-1\" class=\"sk-top-container\"><div class=\"sk-text-repr-fallback\"><pre>DecisionTreeClassifier()</pre><b>In a Jupyter environment, please rerun this cell to show the HTML representation or trust the notebook. <br />On GitHub, the HTML representation is unable to render, please try loading this page with nbviewer.org.</b></div><div class=\"sk-container\" hidden><div class=\"sk-item\"><div class=\"sk-estimator fitted sk-toggleable\"><input class=\"sk-toggleable__control sk-hidden--visually\" id=\"sk-estimator-id-1\" type=\"checkbox\" checked><label for=\"sk-estimator-id-1\" class=\"sk-toggleable__label fitted sk-toggleable__label-arrow fitted\">&nbsp;&nbsp;DecisionTreeClassifier<a class=\"sk-estimator-doc-link fitted\" rel=\"noreferrer\" target=\"_blank\" href=\"https://scikit-learn.org/1.5/modules/generated/sklearn.tree.DecisionTreeClassifier.html\">?<span>Documentation for DecisionTreeClassifier</span></a><span class=\"sk-estimator-doc-link fitted\">i<span>Fitted</span></span></label><div class=\"sk-toggleable__content fitted\"><pre>DecisionTreeClassifier()</pre></div> </div></div></div></div>"
      ],
      "text/plain": [
       "DecisionTreeClassifier()"
      ]
     },
     "execution_count": 116,
     "metadata": {},
     "output_type": "execute_result"
    }
   ],
   "source": [
    "model2 = DecisionTreeClassifier()\n",
    "model2.fit(x_train,y_train)"
   ]
  },
  {
   "cell_type": "code",
   "execution_count": 117,
   "metadata": {},
   "outputs": [
    {
     "data": {
      "text/plain": [
       "1.0"
      ]
     },
     "execution_count": 117,
     "metadata": {},
     "output_type": "execute_result"
    }
   ],
   "source": [
    "model2.score(x_train,y_train)"
   ]
  },
  {
   "cell_type": "code",
   "execution_count": 118,
   "metadata": {},
   "outputs": [
    {
     "data": {
      "text/plain": [
       "1.0"
      ]
     },
     "execution_count": 118,
     "metadata": {},
     "output_type": "execute_result"
    }
   ],
   "source": [
    "model2.score(x_test,y_test)"
   ]
  },
  {
   "cell_type": "code",
   "execution_count": 391,
   "metadata": {},
   "outputs": [],
   "source": [
    "#the two models used in this project have a high accuracy, precision, recall"
   ]
  },
  {
   "cell_type": "code",
   "execution_count": 119,
   "metadata": {},
   "outputs": [
    {
     "name": "stdout",
     "output_type": "stream",
     "text": [
      "Scores are  [1. 1. 1. 1. 1.]\n",
      "Mean score is  1.0\n"
     ]
    }
   ],
   "source": [
    "#cross val score\n",
    "cv_scores = cross_val_score(model2,X,y,cv = 5)\n",
    "\n",
    "print('Scores are ',cv_scores)\n",
    "print(\"Mean score is \", cv_scores.mean())"
   ]
  },
  {
   "cell_type": "code",
   "execution_count": 120,
   "metadata": {},
   "outputs": [],
   "source": [
    "## evaluation of the model performance\n",
    "#precison,recall etc"
   ]
  },
  {
   "cell_type": "code",
   "execution_count": 408,
   "metadata": {},
   "outputs": [
    {
     "data": {
      "text/plain": [
       "array([0.30055608, 0.50685187, 0.02356664, 0.02928803, 0.00924295,\n",
       "       0.00445062, 0.00303604, 0.00502646, 0.00375074, 0.00317367,\n",
       "       0.00259501, 0.00407234, 0.00385752, 0.00265963, 0.00388067,\n",
       "       0.00317831, 0.00410693, 0.0039048 , 0.00231908, 0.00425568,\n",
       "       0.0022822 , 0.00460801, 0.00403162, 0.00508393, 0.00359696,\n",
       "       0.01085012, 0.00531027, 0.00363196, 0.00339617, 0.00363462,\n",
       "       0.0043962 , 0.00401629, 0.00728387, 0.00300509, 0.00683023,\n",
       "       0.00426938])"
      ]
     },
     "execution_count": 408,
     "metadata": {},
     "output_type": "execute_result"
    }
   ],
   "source": [
    "model.feature_importances_"
   ]
  },
  {
   "cell_type": "code",
   "execution_count": 409,
   "metadata": {},
   "outputs": [],
   "source": [
    "#the study_hours and students_score columns are the most important features"
   ]
  },
  {
   "cell_type": "code",
   "execution_count": null,
   "metadata": {},
   "outputs": [],
   "source": []
  }
 ],
 "metadata": {
  "kernelspec": {
   "display_name": "myenv",
   "language": "python",
   "name": "python3"
  },
  "language_info": {
   "codemirror_mode": {
    "name": "ipython",
    "version": 3
   },
   "file_extension": ".py",
   "mimetype": "text/x-python",
   "name": "python",
   "nbconvert_exporter": "python",
   "pygments_lexer": "ipython3",
   "version": "3.11.5"
  }
 },
 "nbformat": 4,
 "nbformat_minor": 2
}
